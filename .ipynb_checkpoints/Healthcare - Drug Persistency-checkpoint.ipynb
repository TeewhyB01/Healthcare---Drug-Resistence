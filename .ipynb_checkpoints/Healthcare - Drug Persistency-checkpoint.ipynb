{
 "cells": [
  {
   "cell_type": "code",
   "execution_count": 1,
   "id": "22a5dd6c",
   "metadata": {},
   "outputs": [
    {
     "name": "stdout",
     "output_type": "stream",
     "text": [
      "Defaulting to user installation because normal site-packages is not writeable\n",
      "Requirement already satisfied: openpyxl in c:\\users\\olutayo oladeinbo\\appdata\\roaming\\python\\python310\\site-packages (3.0.10)\n",
      "Requirement already satisfied: et-xmlfile in c:\\users\\olutayo oladeinbo\\appdata\\roaming\\python\\python310\\site-packages (from openpyxl) (1.1.0)\n",
      "\n",
      "[notice] A new release of pip available: 22.2 -> 22.3.1\n",
      "[notice] To update, run: python.exe -m pip install --upgrade pip\n"
     ]
    }
   ],
   "source": [
    "!pip install openpyxl"
   ]
  },
  {
   "cell_type": "code",
   "execution_count": 126,
   "id": "05c56e34",
   "metadata": {},
   "outputs": [],
   "source": [
    "import pandas as pd\n",
    "import numpy as np\n",
    "import matplotlib.pyplot as plt\n",
    "import seaborn as sns\n",
    "\n",
    "#Data Encoding\n",
    "from sklearn.preprocessing import LabelEncoder\n",
    "\n",
    "#ML Libraries\n",
    "from sklearn.model_selection import train_test_split\n",
    "from imblearn.over_sampling import SMOTE\n",
    "from sklearn.linear_model import LogisticRegression\n",
    "from sklearn.svm import SVC\n",
    "from sklearn.ensemble import RandomForestClassifier,GradientBoostingClassifier\n",
    "from sklearn.tree import DecisionTreeClassifier\n",
    "from sklearn.linear_model import LogisticRegression\n",
    "from sklearn.neighbors import KNeighborsClassifier\n",
    "from sklearn.metrics import roc_curve, roc_auc_score\n",
    "from sklearn.metrics import classification_report, confusion_matrix"
   ]
  },
  {
   "cell_type": "code",
   "execution_count": 4,
   "id": "8cbbaf4e",
   "metadata": {},
   "outputs": [],
   "source": [
    "data = pd.read_excel(open('Healthcare_dataset.xlsx', 'rb'),sheet_name='Dataset') "
   ]
  },
  {
   "cell_type": "code",
   "execution_count": 5,
   "id": "5a9bb578",
   "metadata": {},
   "outputs": [
    {
     "data": {
      "text/html": [
       "<div>\n",
       "<style scoped>\n",
       "    .dataframe tbody tr th:only-of-type {\n",
       "        vertical-align: middle;\n",
       "    }\n",
       "\n",
       "    .dataframe tbody tr th {\n",
       "        vertical-align: top;\n",
       "    }\n",
       "\n",
       "    .dataframe thead th {\n",
       "        text-align: right;\n",
       "    }\n",
       "</style>\n",
       "<table border=\"1\" class=\"dataframe\">\n",
       "  <thead>\n",
       "    <tr style=\"text-align: right;\">\n",
       "      <th></th>\n",
       "      <th>Ptid</th>\n",
       "      <th>Persistency_Flag</th>\n",
       "      <th>Gender</th>\n",
       "      <th>Race</th>\n",
       "      <th>Ethnicity</th>\n",
       "      <th>Region</th>\n",
       "      <th>Age_Bucket</th>\n",
       "      <th>Ntm_Speciality</th>\n",
       "      <th>Ntm_Specialist_Flag</th>\n",
       "      <th>Ntm_Speciality_Bucket</th>\n",
       "      <th>...</th>\n",
       "      <th>Risk_Family_History_Of_Osteoporosis</th>\n",
       "      <th>Risk_Low_Calcium_Intake</th>\n",
       "      <th>Risk_Vitamin_D_Insufficiency</th>\n",
       "      <th>Risk_Poor_Health_Frailty</th>\n",
       "      <th>Risk_Excessive_Thinness</th>\n",
       "      <th>Risk_Hysterectomy_Oophorectomy</th>\n",
       "      <th>Risk_Estrogen_Deficiency</th>\n",
       "      <th>Risk_Immobilization</th>\n",
       "      <th>Risk_Recurring_Falls</th>\n",
       "      <th>Count_Of_Risks</th>\n",
       "    </tr>\n",
       "  </thead>\n",
       "  <tbody>\n",
       "    <tr>\n",
       "      <th>0</th>\n",
       "      <td>P1</td>\n",
       "      <td>Persistent</td>\n",
       "      <td>Male</td>\n",
       "      <td>Caucasian</td>\n",
       "      <td>Not Hispanic</td>\n",
       "      <td>West</td>\n",
       "      <td>&gt;75</td>\n",
       "      <td>GENERAL PRACTITIONER</td>\n",
       "      <td>Others</td>\n",
       "      <td>OB/GYN/Others/PCP/Unknown</td>\n",
       "      <td>...</td>\n",
       "      <td>N</td>\n",
       "      <td>N</td>\n",
       "      <td>N</td>\n",
       "      <td>N</td>\n",
       "      <td>N</td>\n",
       "      <td>N</td>\n",
       "      <td>N</td>\n",
       "      <td>N</td>\n",
       "      <td>N</td>\n",
       "      <td>0</td>\n",
       "    </tr>\n",
       "    <tr>\n",
       "      <th>1</th>\n",
       "      <td>P2</td>\n",
       "      <td>Non-Persistent</td>\n",
       "      <td>Male</td>\n",
       "      <td>Asian</td>\n",
       "      <td>Not Hispanic</td>\n",
       "      <td>West</td>\n",
       "      <td>55-65</td>\n",
       "      <td>GENERAL PRACTITIONER</td>\n",
       "      <td>Others</td>\n",
       "      <td>OB/GYN/Others/PCP/Unknown</td>\n",
       "      <td>...</td>\n",
       "      <td>N</td>\n",
       "      <td>N</td>\n",
       "      <td>N</td>\n",
       "      <td>N</td>\n",
       "      <td>N</td>\n",
       "      <td>N</td>\n",
       "      <td>N</td>\n",
       "      <td>N</td>\n",
       "      <td>N</td>\n",
       "      <td>0</td>\n",
       "    </tr>\n",
       "    <tr>\n",
       "      <th>2</th>\n",
       "      <td>P3</td>\n",
       "      <td>Non-Persistent</td>\n",
       "      <td>Female</td>\n",
       "      <td>Other/Unknown</td>\n",
       "      <td>Hispanic</td>\n",
       "      <td>Midwest</td>\n",
       "      <td>65-75</td>\n",
       "      <td>GENERAL PRACTITIONER</td>\n",
       "      <td>Others</td>\n",
       "      <td>OB/GYN/Others/PCP/Unknown</td>\n",
       "      <td>...</td>\n",
       "      <td>N</td>\n",
       "      <td>Y</td>\n",
       "      <td>N</td>\n",
       "      <td>N</td>\n",
       "      <td>N</td>\n",
       "      <td>N</td>\n",
       "      <td>N</td>\n",
       "      <td>N</td>\n",
       "      <td>N</td>\n",
       "      <td>2</td>\n",
       "    </tr>\n",
       "    <tr>\n",
       "      <th>3</th>\n",
       "      <td>P4</td>\n",
       "      <td>Non-Persistent</td>\n",
       "      <td>Female</td>\n",
       "      <td>Caucasian</td>\n",
       "      <td>Not Hispanic</td>\n",
       "      <td>Midwest</td>\n",
       "      <td>&gt;75</td>\n",
       "      <td>GENERAL PRACTITIONER</td>\n",
       "      <td>Others</td>\n",
       "      <td>OB/GYN/Others/PCP/Unknown</td>\n",
       "      <td>...</td>\n",
       "      <td>N</td>\n",
       "      <td>N</td>\n",
       "      <td>N</td>\n",
       "      <td>N</td>\n",
       "      <td>N</td>\n",
       "      <td>N</td>\n",
       "      <td>N</td>\n",
       "      <td>N</td>\n",
       "      <td>N</td>\n",
       "      <td>1</td>\n",
       "    </tr>\n",
       "    <tr>\n",
       "      <th>4</th>\n",
       "      <td>P5</td>\n",
       "      <td>Non-Persistent</td>\n",
       "      <td>Female</td>\n",
       "      <td>Caucasian</td>\n",
       "      <td>Not Hispanic</td>\n",
       "      <td>Midwest</td>\n",
       "      <td>&gt;75</td>\n",
       "      <td>GENERAL PRACTITIONER</td>\n",
       "      <td>Others</td>\n",
       "      <td>OB/GYN/Others/PCP/Unknown</td>\n",
       "      <td>...</td>\n",
       "      <td>N</td>\n",
       "      <td>N</td>\n",
       "      <td>N</td>\n",
       "      <td>N</td>\n",
       "      <td>N</td>\n",
       "      <td>N</td>\n",
       "      <td>N</td>\n",
       "      <td>N</td>\n",
       "      <td>N</td>\n",
       "      <td>1</td>\n",
       "    </tr>\n",
       "  </tbody>\n",
       "</table>\n",
       "<p>5 rows × 69 columns</p>\n",
       "</div>"
      ],
      "text/plain": [
       "  Ptid Persistency_Flag  Gender           Race     Ethnicity   Region  \\\n",
       "0   P1       Persistent    Male      Caucasian  Not Hispanic     West   \n",
       "1   P2   Non-Persistent    Male          Asian  Not Hispanic     West   \n",
       "2   P3   Non-Persistent  Female  Other/Unknown      Hispanic  Midwest   \n",
       "3   P4   Non-Persistent  Female      Caucasian  Not Hispanic  Midwest   \n",
       "4   P5   Non-Persistent  Female      Caucasian  Not Hispanic  Midwest   \n",
       "\n",
       "  Age_Bucket        Ntm_Speciality Ntm_Specialist_Flag  \\\n",
       "0        >75  GENERAL PRACTITIONER              Others   \n",
       "1      55-65  GENERAL PRACTITIONER              Others   \n",
       "2      65-75  GENERAL PRACTITIONER              Others   \n",
       "3        >75  GENERAL PRACTITIONER              Others   \n",
       "4        >75  GENERAL PRACTITIONER              Others   \n",
       "\n",
       "       Ntm_Speciality_Bucket  ... Risk_Family_History_Of_Osteoporosis  \\\n",
       "0  OB/GYN/Others/PCP/Unknown  ...                                   N   \n",
       "1  OB/GYN/Others/PCP/Unknown  ...                                   N   \n",
       "2  OB/GYN/Others/PCP/Unknown  ...                                   N   \n",
       "3  OB/GYN/Others/PCP/Unknown  ...                                   N   \n",
       "4  OB/GYN/Others/PCP/Unknown  ...                                   N   \n",
       "\n",
       "  Risk_Low_Calcium_Intake  Risk_Vitamin_D_Insufficiency  \\\n",
       "0                       N                             N   \n",
       "1                       N                             N   \n",
       "2                       Y                             N   \n",
       "3                       N                             N   \n",
       "4                       N                             N   \n",
       "\n",
       "  Risk_Poor_Health_Frailty Risk_Excessive_Thinness  \\\n",
       "0                        N                       N   \n",
       "1                        N                       N   \n",
       "2                        N                       N   \n",
       "3                        N                       N   \n",
       "4                        N                       N   \n",
       "\n",
       "  Risk_Hysterectomy_Oophorectomy Risk_Estrogen_Deficiency Risk_Immobilization  \\\n",
       "0                              N                        N                   N   \n",
       "1                              N                        N                   N   \n",
       "2                              N                        N                   N   \n",
       "3                              N                        N                   N   \n",
       "4                              N                        N                   N   \n",
       "\n",
       "  Risk_Recurring_Falls Count_Of_Risks  \n",
       "0                    N              0  \n",
       "1                    N              0  \n",
       "2                    N              2  \n",
       "3                    N              1  \n",
       "4                    N              1  \n",
       "\n",
       "[5 rows x 69 columns]"
      ]
     },
     "execution_count": 5,
     "metadata": {},
     "output_type": "execute_result"
    }
   ],
   "source": [
    "data.head()"
   ]
  },
  {
   "cell_type": "code",
   "execution_count": 6,
   "id": "fb9b3d6d",
   "metadata": {},
   "outputs": [],
   "source": [
    "# Created a function to get necessary information from the data set in a dataframe\n",
    "def get_data_info():\n",
    "    dataset_info = pd.DataFrame(index=data.columns)\n",
    "    dataset_info['Data_type'] = data.dtypes\n",
    "    dataset_info['Total Value'] = data.count()\n",
    "    dataset_info['Null_count'] = data.isnull().sum()\n",
    "    dataset_info['Unique_count'] = data.nunique()\n",
    "    pd.set_option('display.max_rows', None)\n",
    "    return dataset_info"
   ]
  },
  {
   "cell_type": "code",
   "execution_count": 7,
   "id": "e28eba29",
   "metadata": {},
   "outputs": [
    {
     "data": {
      "text/html": [
       "<div>\n",
       "<style scoped>\n",
       "    .dataframe tbody tr th:only-of-type {\n",
       "        vertical-align: middle;\n",
       "    }\n",
       "\n",
       "    .dataframe tbody tr th {\n",
       "        vertical-align: top;\n",
       "    }\n",
       "\n",
       "    .dataframe thead th {\n",
       "        text-align: right;\n",
       "    }\n",
       "</style>\n",
       "<table border=\"1\" class=\"dataframe\">\n",
       "  <thead>\n",
       "    <tr style=\"text-align: right;\">\n",
       "      <th></th>\n",
       "      <th>Data_type</th>\n",
       "      <th>Total Value</th>\n",
       "      <th>Null_count</th>\n",
       "      <th>Unique_count</th>\n",
       "    </tr>\n",
       "  </thead>\n",
       "  <tbody>\n",
       "    <tr>\n",
       "      <th>Ptid</th>\n",
       "      <td>object</td>\n",
       "      <td>3424</td>\n",
       "      <td>0</td>\n",
       "      <td>3424</td>\n",
       "    </tr>\n",
       "    <tr>\n",
       "      <th>Persistency_Flag</th>\n",
       "      <td>object</td>\n",
       "      <td>3424</td>\n",
       "      <td>0</td>\n",
       "      <td>2</td>\n",
       "    </tr>\n",
       "    <tr>\n",
       "      <th>Gender</th>\n",
       "      <td>object</td>\n",
       "      <td>3424</td>\n",
       "      <td>0</td>\n",
       "      <td>2</td>\n",
       "    </tr>\n",
       "    <tr>\n",
       "      <th>Race</th>\n",
       "      <td>object</td>\n",
       "      <td>3424</td>\n",
       "      <td>0</td>\n",
       "      <td>4</td>\n",
       "    </tr>\n",
       "    <tr>\n",
       "      <th>Ethnicity</th>\n",
       "      <td>object</td>\n",
       "      <td>3424</td>\n",
       "      <td>0</td>\n",
       "      <td>3</td>\n",
       "    </tr>\n",
       "    <tr>\n",
       "      <th>Region</th>\n",
       "      <td>object</td>\n",
       "      <td>3424</td>\n",
       "      <td>0</td>\n",
       "      <td>5</td>\n",
       "    </tr>\n",
       "    <tr>\n",
       "      <th>Age_Bucket</th>\n",
       "      <td>object</td>\n",
       "      <td>3424</td>\n",
       "      <td>0</td>\n",
       "      <td>4</td>\n",
       "    </tr>\n",
       "    <tr>\n",
       "      <th>Ntm_Speciality</th>\n",
       "      <td>object</td>\n",
       "      <td>3424</td>\n",
       "      <td>0</td>\n",
       "      <td>36</td>\n",
       "    </tr>\n",
       "    <tr>\n",
       "      <th>Ntm_Specialist_Flag</th>\n",
       "      <td>object</td>\n",
       "      <td>3424</td>\n",
       "      <td>0</td>\n",
       "      <td>2</td>\n",
       "    </tr>\n",
       "    <tr>\n",
       "      <th>Ntm_Speciality_Bucket</th>\n",
       "      <td>object</td>\n",
       "      <td>3424</td>\n",
       "      <td>0</td>\n",
       "      <td>3</td>\n",
       "    </tr>\n",
       "    <tr>\n",
       "      <th>Gluco_Record_Prior_Ntm</th>\n",
       "      <td>object</td>\n",
       "      <td>3424</td>\n",
       "      <td>0</td>\n",
       "      <td>2</td>\n",
       "    </tr>\n",
       "    <tr>\n",
       "      <th>Gluco_Record_During_Rx</th>\n",
       "      <td>object</td>\n",
       "      <td>3424</td>\n",
       "      <td>0</td>\n",
       "      <td>2</td>\n",
       "    </tr>\n",
       "    <tr>\n",
       "      <th>Dexa_Freq_During_Rx</th>\n",
       "      <td>int64</td>\n",
       "      <td>3424</td>\n",
       "      <td>0</td>\n",
       "      <td>58</td>\n",
       "    </tr>\n",
       "    <tr>\n",
       "      <th>Dexa_During_Rx</th>\n",
       "      <td>object</td>\n",
       "      <td>3424</td>\n",
       "      <td>0</td>\n",
       "      <td>2</td>\n",
       "    </tr>\n",
       "    <tr>\n",
       "      <th>Frag_Frac_Prior_Ntm</th>\n",
       "      <td>object</td>\n",
       "      <td>3424</td>\n",
       "      <td>0</td>\n",
       "      <td>2</td>\n",
       "    </tr>\n",
       "    <tr>\n",
       "      <th>Frag_Frac_During_Rx</th>\n",
       "      <td>object</td>\n",
       "      <td>3424</td>\n",
       "      <td>0</td>\n",
       "      <td>2</td>\n",
       "    </tr>\n",
       "    <tr>\n",
       "      <th>Risk_Segment_Prior_Ntm</th>\n",
       "      <td>object</td>\n",
       "      <td>3424</td>\n",
       "      <td>0</td>\n",
       "      <td>2</td>\n",
       "    </tr>\n",
       "    <tr>\n",
       "      <th>Tscore_Bucket_Prior_Ntm</th>\n",
       "      <td>object</td>\n",
       "      <td>3424</td>\n",
       "      <td>0</td>\n",
       "      <td>2</td>\n",
       "    </tr>\n",
       "    <tr>\n",
       "      <th>Risk_Segment_During_Rx</th>\n",
       "      <td>object</td>\n",
       "      <td>3424</td>\n",
       "      <td>0</td>\n",
       "      <td>3</td>\n",
       "    </tr>\n",
       "    <tr>\n",
       "      <th>Tscore_Bucket_During_Rx</th>\n",
       "      <td>object</td>\n",
       "      <td>3424</td>\n",
       "      <td>0</td>\n",
       "      <td>3</td>\n",
       "    </tr>\n",
       "    <tr>\n",
       "      <th>Change_T_Score</th>\n",
       "      <td>object</td>\n",
       "      <td>3424</td>\n",
       "      <td>0</td>\n",
       "      <td>4</td>\n",
       "    </tr>\n",
       "    <tr>\n",
       "      <th>Change_Risk_Segment</th>\n",
       "      <td>object</td>\n",
       "      <td>3424</td>\n",
       "      <td>0</td>\n",
       "      <td>4</td>\n",
       "    </tr>\n",
       "    <tr>\n",
       "      <th>Adherent_Flag</th>\n",
       "      <td>object</td>\n",
       "      <td>3424</td>\n",
       "      <td>0</td>\n",
       "      <td>2</td>\n",
       "    </tr>\n",
       "    <tr>\n",
       "      <th>Idn_Indicator</th>\n",
       "      <td>object</td>\n",
       "      <td>3424</td>\n",
       "      <td>0</td>\n",
       "      <td>2</td>\n",
       "    </tr>\n",
       "    <tr>\n",
       "      <th>Injectable_Experience_During_Rx</th>\n",
       "      <td>object</td>\n",
       "      <td>3424</td>\n",
       "      <td>0</td>\n",
       "      <td>2</td>\n",
       "    </tr>\n",
       "    <tr>\n",
       "      <th>Comorb_Encounter_For_Screening_For_Malignant_Neoplasms</th>\n",
       "      <td>object</td>\n",
       "      <td>3424</td>\n",
       "      <td>0</td>\n",
       "      <td>2</td>\n",
       "    </tr>\n",
       "    <tr>\n",
       "      <th>Comorb_Encounter_For_Immunization</th>\n",
       "      <td>object</td>\n",
       "      <td>3424</td>\n",
       "      <td>0</td>\n",
       "      <td>2</td>\n",
       "    </tr>\n",
       "    <tr>\n",
       "      <th>Comorb_Encntr_For_General_Exam_W_O_Complaint,_Susp_Or_Reprtd_Dx</th>\n",
       "      <td>object</td>\n",
       "      <td>3424</td>\n",
       "      <td>0</td>\n",
       "      <td>2</td>\n",
       "    </tr>\n",
       "    <tr>\n",
       "      <th>Comorb_Vitamin_D_Deficiency</th>\n",
       "      <td>object</td>\n",
       "      <td>3424</td>\n",
       "      <td>0</td>\n",
       "      <td>2</td>\n",
       "    </tr>\n",
       "    <tr>\n",
       "      <th>Comorb_Other_Joint_Disorder_Not_Elsewhere_Classified</th>\n",
       "      <td>object</td>\n",
       "      <td>3424</td>\n",
       "      <td>0</td>\n",
       "      <td>2</td>\n",
       "    </tr>\n",
       "    <tr>\n",
       "      <th>Comorb_Encntr_For_Oth_Sp_Exam_W_O_Complaint_Suspected_Or_Reprtd_Dx</th>\n",
       "      <td>object</td>\n",
       "      <td>3424</td>\n",
       "      <td>0</td>\n",
       "      <td>2</td>\n",
       "    </tr>\n",
       "    <tr>\n",
       "      <th>Comorb_Long_Term_Current_Drug_Therapy</th>\n",
       "      <td>object</td>\n",
       "      <td>3424</td>\n",
       "      <td>0</td>\n",
       "      <td>2</td>\n",
       "    </tr>\n",
       "    <tr>\n",
       "      <th>Comorb_Dorsalgia</th>\n",
       "      <td>object</td>\n",
       "      <td>3424</td>\n",
       "      <td>0</td>\n",
       "      <td>2</td>\n",
       "    </tr>\n",
       "    <tr>\n",
       "      <th>Comorb_Personal_History_Of_Other_Diseases_And_Conditions</th>\n",
       "      <td>object</td>\n",
       "      <td>3424</td>\n",
       "      <td>0</td>\n",
       "      <td>2</td>\n",
       "    </tr>\n",
       "    <tr>\n",
       "      <th>Comorb_Other_Disorders_Of_Bone_Density_And_Structure</th>\n",
       "      <td>object</td>\n",
       "      <td>3424</td>\n",
       "      <td>0</td>\n",
       "      <td>2</td>\n",
       "    </tr>\n",
       "    <tr>\n",
       "      <th>Comorb_Disorders_of_lipoprotein_metabolism_and_other_lipidemias</th>\n",
       "      <td>object</td>\n",
       "      <td>3424</td>\n",
       "      <td>0</td>\n",
       "      <td>2</td>\n",
       "    </tr>\n",
       "    <tr>\n",
       "      <th>Comorb_Osteoporosis_without_current_pathological_fracture</th>\n",
       "      <td>object</td>\n",
       "      <td>3424</td>\n",
       "      <td>0</td>\n",
       "      <td>2</td>\n",
       "    </tr>\n",
       "    <tr>\n",
       "      <th>Comorb_Personal_history_of_malignant_neoplasm</th>\n",
       "      <td>object</td>\n",
       "      <td>3424</td>\n",
       "      <td>0</td>\n",
       "      <td>2</td>\n",
       "    </tr>\n",
       "    <tr>\n",
       "      <th>Comorb_Gastro_esophageal_reflux_disease</th>\n",
       "      <td>object</td>\n",
       "      <td>3424</td>\n",
       "      <td>0</td>\n",
       "      <td>2</td>\n",
       "    </tr>\n",
       "    <tr>\n",
       "      <th>Concom_Cholesterol_And_Triglyceride_Regulating_Preparations</th>\n",
       "      <td>object</td>\n",
       "      <td>3424</td>\n",
       "      <td>0</td>\n",
       "      <td>2</td>\n",
       "    </tr>\n",
       "    <tr>\n",
       "      <th>Concom_Narcotics</th>\n",
       "      <td>object</td>\n",
       "      <td>3424</td>\n",
       "      <td>0</td>\n",
       "      <td>2</td>\n",
       "    </tr>\n",
       "    <tr>\n",
       "      <th>Concom_Systemic_Corticosteroids_Plain</th>\n",
       "      <td>object</td>\n",
       "      <td>3424</td>\n",
       "      <td>0</td>\n",
       "      <td>2</td>\n",
       "    </tr>\n",
       "    <tr>\n",
       "      <th>Concom_Anti_Depressants_And_Mood_Stabilisers</th>\n",
       "      <td>object</td>\n",
       "      <td>3424</td>\n",
       "      <td>0</td>\n",
       "      <td>2</td>\n",
       "    </tr>\n",
       "    <tr>\n",
       "      <th>Concom_Fluoroquinolones</th>\n",
       "      <td>object</td>\n",
       "      <td>3424</td>\n",
       "      <td>0</td>\n",
       "      <td>2</td>\n",
       "    </tr>\n",
       "    <tr>\n",
       "      <th>Concom_Cephalosporins</th>\n",
       "      <td>object</td>\n",
       "      <td>3424</td>\n",
       "      <td>0</td>\n",
       "      <td>2</td>\n",
       "    </tr>\n",
       "    <tr>\n",
       "      <th>Concom_Macrolides_And_Similar_Types</th>\n",
       "      <td>object</td>\n",
       "      <td>3424</td>\n",
       "      <td>0</td>\n",
       "      <td>2</td>\n",
       "    </tr>\n",
       "    <tr>\n",
       "      <th>Concom_Broad_Spectrum_Penicillins</th>\n",
       "      <td>object</td>\n",
       "      <td>3424</td>\n",
       "      <td>0</td>\n",
       "      <td>2</td>\n",
       "    </tr>\n",
       "    <tr>\n",
       "      <th>Concom_Anaesthetics_General</th>\n",
       "      <td>object</td>\n",
       "      <td>3424</td>\n",
       "      <td>0</td>\n",
       "      <td>2</td>\n",
       "    </tr>\n",
       "    <tr>\n",
       "      <th>Concom_Viral_Vaccines</th>\n",
       "      <td>object</td>\n",
       "      <td>3424</td>\n",
       "      <td>0</td>\n",
       "      <td>2</td>\n",
       "    </tr>\n",
       "    <tr>\n",
       "      <th>Risk_Type_1_Insulin_Dependent_Diabetes</th>\n",
       "      <td>object</td>\n",
       "      <td>3424</td>\n",
       "      <td>0</td>\n",
       "      <td>2</td>\n",
       "    </tr>\n",
       "    <tr>\n",
       "      <th>Risk_Osteogenesis_Imperfecta</th>\n",
       "      <td>object</td>\n",
       "      <td>3424</td>\n",
       "      <td>0</td>\n",
       "      <td>2</td>\n",
       "    </tr>\n",
       "    <tr>\n",
       "      <th>Risk_Rheumatoid_Arthritis</th>\n",
       "      <td>object</td>\n",
       "      <td>3424</td>\n",
       "      <td>0</td>\n",
       "      <td>2</td>\n",
       "    </tr>\n",
       "    <tr>\n",
       "      <th>Risk_Untreated_Chronic_Hyperthyroidism</th>\n",
       "      <td>object</td>\n",
       "      <td>3424</td>\n",
       "      <td>0</td>\n",
       "      <td>2</td>\n",
       "    </tr>\n",
       "    <tr>\n",
       "      <th>Risk_Untreated_Chronic_Hypogonadism</th>\n",
       "      <td>object</td>\n",
       "      <td>3424</td>\n",
       "      <td>0</td>\n",
       "      <td>2</td>\n",
       "    </tr>\n",
       "    <tr>\n",
       "      <th>Risk_Untreated_Early_Menopause</th>\n",
       "      <td>object</td>\n",
       "      <td>3424</td>\n",
       "      <td>0</td>\n",
       "      <td>2</td>\n",
       "    </tr>\n",
       "    <tr>\n",
       "      <th>Risk_Patient_Parent_Fractured_Their_Hip</th>\n",
       "      <td>object</td>\n",
       "      <td>3424</td>\n",
       "      <td>0</td>\n",
       "      <td>2</td>\n",
       "    </tr>\n",
       "    <tr>\n",
       "      <th>Risk_Smoking_Tobacco</th>\n",
       "      <td>object</td>\n",
       "      <td>3424</td>\n",
       "      <td>0</td>\n",
       "      <td>2</td>\n",
       "    </tr>\n",
       "    <tr>\n",
       "      <th>Risk_Chronic_Malnutrition_Or_Malabsorption</th>\n",
       "      <td>object</td>\n",
       "      <td>3424</td>\n",
       "      <td>0</td>\n",
       "      <td>2</td>\n",
       "    </tr>\n",
       "    <tr>\n",
       "      <th>Risk_Chronic_Liver_Disease</th>\n",
       "      <td>object</td>\n",
       "      <td>3424</td>\n",
       "      <td>0</td>\n",
       "      <td>2</td>\n",
       "    </tr>\n",
       "    <tr>\n",
       "      <th>Risk_Family_History_Of_Osteoporosis</th>\n",
       "      <td>object</td>\n",
       "      <td>3424</td>\n",
       "      <td>0</td>\n",
       "      <td>2</td>\n",
       "    </tr>\n",
       "    <tr>\n",
       "      <th>Risk_Low_Calcium_Intake</th>\n",
       "      <td>object</td>\n",
       "      <td>3424</td>\n",
       "      <td>0</td>\n",
       "      <td>2</td>\n",
       "    </tr>\n",
       "    <tr>\n",
       "      <th>Risk_Vitamin_D_Insufficiency</th>\n",
       "      <td>object</td>\n",
       "      <td>3424</td>\n",
       "      <td>0</td>\n",
       "      <td>2</td>\n",
       "    </tr>\n",
       "    <tr>\n",
       "      <th>Risk_Poor_Health_Frailty</th>\n",
       "      <td>object</td>\n",
       "      <td>3424</td>\n",
       "      <td>0</td>\n",
       "      <td>2</td>\n",
       "    </tr>\n",
       "    <tr>\n",
       "      <th>Risk_Excessive_Thinness</th>\n",
       "      <td>object</td>\n",
       "      <td>3424</td>\n",
       "      <td>0</td>\n",
       "      <td>2</td>\n",
       "    </tr>\n",
       "    <tr>\n",
       "      <th>Risk_Hysterectomy_Oophorectomy</th>\n",
       "      <td>object</td>\n",
       "      <td>3424</td>\n",
       "      <td>0</td>\n",
       "      <td>2</td>\n",
       "    </tr>\n",
       "    <tr>\n",
       "      <th>Risk_Estrogen_Deficiency</th>\n",
       "      <td>object</td>\n",
       "      <td>3424</td>\n",
       "      <td>0</td>\n",
       "      <td>2</td>\n",
       "    </tr>\n",
       "    <tr>\n",
       "      <th>Risk_Immobilization</th>\n",
       "      <td>object</td>\n",
       "      <td>3424</td>\n",
       "      <td>0</td>\n",
       "      <td>2</td>\n",
       "    </tr>\n",
       "    <tr>\n",
       "      <th>Risk_Recurring_Falls</th>\n",
       "      <td>object</td>\n",
       "      <td>3424</td>\n",
       "      <td>0</td>\n",
       "      <td>2</td>\n",
       "    </tr>\n",
       "    <tr>\n",
       "      <th>Count_Of_Risks</th>\n",
       "      <td>int64</td>\n",
       "      <td>3424</td>\n",
       "      <td>0</td>\n",
       "      <td>8</td>\n",
       "    </tr>\n",
       "  </tbody>\n",
       "</table>\n",
       "</div>"
      ],
      "text/plain": [
       "                                                   Data_type  Total Value  \\\n",
       "Ptid                                                  object         3424   \n",
       "Persistency_Flag                                      object         3424   \n",
       "Gender                                                object         3424   \n",
       "Race                                                  object         3424   \n",
       "Ethnicity                                             object         3424   \n",
       "Region                                                object         3424   \n",
       "Age_Bucket                                            object         3424   \n",
       "Ntm_Speciality                                        object         3424   \n",
       "Ntm_Specialist_Flag                                   object         3424   \n",
       "Ntm_Speciality_Bucket                                 object         3424   \n",
       "Gluco_Record_Prior_Ntm                                object         3424   \n",
       "Gluco_Record_During_Rx                                object         3424   \n",
       "Dexa_Freq_During_Rx                                    int64         3424   \n",
       "Dexa_During_Rx                                        object         3424   \n",
       "Frag_Frac_Prior_Ntm                                   object         3424   \n",
       "Frag_Frac_During_Rx                                   object         3424   \n",
       "Risk_Segment_Prior_Ntm                                object         3424   \n",
       "Tscore_Bucket_Prior_Ntm                               object         3424   \n",
       "Risk_Segment_During_Rx                                object         3424   \n",
       "Tscore_Bucket_During_Rx                               object         3424   \n",
       "Change_T_Score                                        object         3424   \n",
       "Change_Risk_Segment                                   object         3424   \n",
       "Adherent_Flag                                         object         3424   \n",
       "Idn_Indicator                                         object         3424   \n",
       "Injectable_Experience_During_Rx                       object         3424   \n",
       "Comorb_Encounter_For_Screening_For_Malignant_Ne...    object         3424   \n",
       "Comorb_Encounter_For_Immunization                     object         3424   \n",
       "Comorb_Encntr_For_General_Exam_W_O_Complaint,_S...    object         3424   \n",
       "Comorb_Vitamin_D_Deficiency                           object         3424   \n",
       "Comorb_Other_Joint_Disorder_Not_Elsewhere_Class...    object         3424   \n",
       "Comorb_Encntr_For_Oth_Sp_Exam_W_O_Complaint_Sus...    object         3424   \n",
       "Comorb_Long_Term_Current_Drug_Therapy                 object         3424   \n",
       "Comorb_Dorsalgia                                      object         3424   \n",
       "Comorb_Personal_History_Of_Other_Diseases_And_C...    object         3424   \n",
       "Comorb_Other_Disorders_Of_Bone_Density_And_Stru...    object         3424   \n",
       "Comorb_Disorders_of_lipoprotein_metabolism_and_...    object         3424   \n",
       "Comorb_Osteoporosis_without_current_pathologica...    object         3424   \n",
       "Comorb_Personal_history_of_malignant_neoplasm         object         3424   \n",
       "Comorb_Gastro_esophageal_reflux_disease               object         3424   \n",
       "Concom_Cholesterol_And_Triglyceride_Regulating_...    object         3424   \n",
       "Concom_Narcotics                                      object         3424   \n",
       "Concom_Systemic_Corticosteroids_Plain                 object         3424   \n",
       "Concom_Anti_Depressants_And_Mood_Stabilisers          object         3424   \n",
       "Concom_Fluoroquinolones                               object         3424   \n",
       "Concom_Cephalosporins                                 object         3424   \n",
       "Concom_Macrolides_And_Similar_Types                   object         3424   \n",
       "Concom_Broad_Spectrum_Penicillins                     object         3424   \n",
       "Concom_Anaesthetics_General                           object         3424   \n",
       "Concom_Viral_Vaccines                                 object         3424   \n",
       "Risk_Type_1_Insulin_Dependent_Diabetes                object         3424   \n",
       "Risk_Osteogenesis_Imperfecta                          object         3424   \n",
       "Risk_Rheumatoid_Arthritis                             object         3424   \n",
       "Risk_Untreated_Chronic_Hyperthyroidism                object         3424   \n",
       "Risk_Untreated_Chronic_Hypogonadism                   object         3424   \n",
       "Risk_Untreated_Early_Menopause                        object         3424   \n",
       "Risk_Patient_Parent_Fractured_Their_Hip               object         3424   \n",
       "Risk_Smoking_Tobacco                                  object         3424   \n",
       "Risk_Chronic_Malnutrition_Or_Malabsorption            object         3424   \n",
       "Risk_Chronic_Liver_Disease                            object         3424   \n",
       "Risk_Family_History_Of_Osteoporosis                   object         3424   \n",
       "Risk_Low_Calcium_Intake                               object         3424   \n",
       "Risk_Vitamin_D_Insufficiency                          object         3424   \n",
       "Risk_Poor_Health_Frailty                              object         3424   \n",
       "Risk_Excessive_Thinness                               object         3424   \n",
       "Risk_Hysterectomy_Oophorectomy                        object         3424   \n",
       "Risk_Estrogen_Deficiency                              object         3424   \n",
       "Risk_Immobilization                                   object         3424   \n",
       "Risk_Recurring_Falls                                  object         3424   \n",
       "Count_Of_Risks                                         int64         3424   \n",
       "\n",
       "                                                    Null_count  Unique_count  \n",
       "Ptid                                                         0          3424  \n",
       "Persistency_Flag                                             0             2  \n",
       "Gender                                                       0             2  \n",
       "Race                                                         0             4  \n",
       "Ethnicity                                                    0             3  \n",
       "Region                                                       0             5  \n",
       "Age_Bucket                                                   0             4  \n",
       "Ntm_Speciality                                               0            36  \n",
       "Ntm_Specialist_Flag                                          0             2  \n",
       "Ntm_Speciality_Bucket                                        0             3  \n",
       "Gluco_Record_Prior_Ntm                                       0             2  \n",
       "Gluco_Record_During_Rx                                       0             2  \n",
       "Dexa_Freq_During_Rx                                          0            58  \n",
       "Dexa_During_Rx                                               0             2  \n",
       "Frag_Frac_Prior_Ntm                                          0             2  \n",
       "Frag_Frac_During_Rx                                          0             2  \n",
       "Risk_Segment_Prior_Ntm                                       0             2  \n",
       "Tscore_Bucket_Prior_Ntm                                      0             2  \n",
       "Risk_Segment_During_Rx                                       0             3  \n",
       "Tscore_Bucket_During_Rx                                      0             3  \n",
       "Change_T_Score                                               0             4  \n",
       "Change_Risk_Segment                                          0             4  \n",
       "Adherent_Flag                                                0             2  \n",
       "Idn_Indicator                                                0             2  \n",
       "Injectable_Experience_During_Rx                              0             2  \n",
       "Comorb_Encounter_For_Screening_For_Malignant_Ne...           0             2  \n",
       "Comorb_Encounter_For_Immunization                            0             2  \n",
       "Comorb_Encntr_For_General_Exam_W_O_Complaint,_S...           0             2  \n",
       "Comorb_Vitamin_D_Deficiency                                  0             2  \n",
       "Comorb_Other_Joint_Disorder_Not_Elsewhere_Class...           0             2  \n",
       "Comorb_Encntr_For_Oth_Sp_Exam_W_O_Complaint_Sus...           0             2  \n",
       "Comorb_Long_Term_Current_Drug_Therapy                        0             2  \n",
       "Comorb_Dorsalgia                                             0             2  \n",
       "Comorb_Personal_History_Of_Other_Diseases_And_C...           0             2  \n",
       "Comorb_Other_Disorders_Of_Bone_Density_And_Stru...           0             2  \n",
       "Comorb_Disorders_of_lipoprotein_metabolism_and_...           0             2  \n",
       "Comorb_Osteoporosis_without_current_pathologica...           0             2  \n",
       "Comorb_Personal_history_of_malignant_neoplasm                0             2  \n",
       "Comorb_Gastro_esophageal_reflux_disease                      0             2  \n",
       "Concom_Cholesterol_And_Triglyceride_Regulating_...           0             2  \n",
       "Concom_Narcotics                                             0             2  \n",
       "Concom_Systemic_Corticosteroids_Plain                        0             2  \n",
       "Concom_Anti_Depressants_And_Mood_Stabilisers                 0             2  \n",
       "Concom_Fluoroquinolones                                      0             2  \n",
       "Concom_Cephalosporins                                        0             2  \n",
       "Concom_Macrolides_And_Similar_Types                          0             2  \n",
       "Concom_Broad_Spectrum_Penicillins                            0             2  \n",
       "Concom_Anaesthetics_General                                  0             2  \n",
       "Concom_Viral_Vaccines                                        0             2  \n",
       "Risk_Type_1_Insulin_Dependent_Diabetes                       0             2  \n",
       "Risk_Osteogenesis_Imperfecta                                 0             2  \n",
       "Risk_Rheumatoid_Arthritis                                    0             2  \n",
       "Risk_Untreated_Chronic_Hyperthyroidism                       0             2  \n",
       "Risk_Untreated_Chronic_Hypogonadism                          0             2  \n",
       "Risk_Untreated_Early_Menopause                               0             2  \n",
       "Risk_Patient_Parent_Fractured_Their_Hip                      0             2  \n",
       "Risk_Smoking_Tobacco                                         0             2  \n",
       "Risk_Chronic_Malnutrition_Or_Malabsorption                   0             2  \n",
       "Risk_Chronic_Liver_Disease                                   0             2  \n",
       "Risk_Family_History_Of_Osteoporosis                          0             2  \n",
       "Risk_Low_Calcium_Intake                                      0             2  \n",
       "Risk_Vitamin_D_Insufficiency                                 0             2  \n",
       "Risk_Poor_Health_Frailty                                     0             2  \n",
       "Risk_Excessive_Thinness                                      0             2  \n",
       "Risk_Hysterectomy_Oophorectomy                               0             2  \n",
       "Risk_Estrogen_Deficiency                                     0             2  \n",
       "Risk_Immobilization                                          0             2  \n",
       "Risk_Recurring_Falls                                         0             2  \n",
       "Count_Of_Risks                                               0             8  "
      ]
     },
     "execution_count": 7,
     "metadata": {},
     "output_type": "execute_result"
    }
   ],
   "source": [
    "get_data_info()"
   ]
  },
  {
   "cell_type": "code",
   "execution_count": 8,
   "id": "b6c3c543",
   "metadata": {},
   "outputs": [
    {
     "data": {
      "text/plain": [
       "Index(['Ptid', 'Persistency_Flag', 'Gender', 'Race', 'Ethnicity', 'Region',\n",
       "       'Age_Bucket', 'Ntm_Speciality', 'Ntm_Specialist_Flag',\n",
       "       'Ntm_Speciality_Bucket', 'Gluco_Record_Prior_Ntm',\n",
       "       'Gluco_Record_During_Rx', 'Dexa_Freq_During_Rx', 'Dexa_During_Rx',\n",
       "       'Frag_Frac_Prior_Ntm', 'Frag_Frac_During_Rx', 'Risk_Segment_Prior_Ntm',\n",
       "       'Tscore_Bucket_Prior_Ntm', 'Risk_Segment_During_Rx',\n",
       "       'Tscore_Bucket_During_Rx', 'Change_T_Score', 'Change_Risk_Segment',\n",
       "       'Adherent_Flag', 'Idn_Indicator', 'Injectable_Experience_During_Rx',\n",
       "       'Comorb_Encounter_For_Screening_For_Malignant_Neoplasms',\n",
       "       'Comorb_Encounter_For_Immunization',\n",
       "       'Comorb_Encntr_For_General_Exam_W_O_Complaint,_Susp_Or_Reprtd_Dx',\n",
       "       'Comorb_Vitamin_D_Deficiency',\n",
       "       'Comorb_Other_Joint_Disorder_Not_Elsewhere_Classified',\n",
       "       'Comorb_Encntr_For_Oth_Sp_Exam_W_O_Complaint_Suspected_Or_Reprtd_Dx',\n",
       "       'Comorb_Long_Term_Current_Drug_Therapy', 'Comorb_Dorsalgia',\n",
       "       'Comorb_Personal_History_Of_Other_Diseases_And_Conditions',\n",
       "       'Comorb_Other_Disorders_Of_Bone_Density_And_Structure',\n",
       "       'Comorb_Disorders_of_lipoprotein_metabolism_and_other_lipidemias',\n",
       "       'Comorb_Osteoporosis_without_current_pathological_fracture',\n",
       "       'Comorb_Personal_history_of_malignant_neoplasm',\n",
       "       'Comorb_Gastro_esophageal_reflux_disease',\n",
       "       'Concom_Cholesterol_And_Triglyceride_Regulating_Preparations',\n",
       "       'Concom_Narcotics', 'Concom_Systemic_Corticosteroids_Plain',\n",
       "       'Concom_Anti_Depressants_And_Mood_Stabilisers',\n",
       "       'Concom_Fluoroquinolones', 'Concom_Cephalosporins',\n",
       "       'Concom_Macrolides_And_Similar_Types',\n",
       "       'Concom_Broad_Spectrum_Penicillins', 'Concom_Anaesthetics_General',\n",
       "       'Concom_Viral_Vaccines', 'Risk_Type_1_Insulin_Dependent_Diabetes',\n",
       "       'Risk_Osteogenesis_Imperfecta', 'Risk_Rheumatoid_Arthritis',\n",
       "       'Risk_Untreated_Chronic_Hyperthyroidism',\n",
       "       'Risk_Untreated_Chronic_Hypogonadism', 'Risk_Untreated_Early_Menopause',\n",
       "       'Risk_Patient_Parent_Fractured_Their_Hip', 'Risk_Smoking_Tobacco',\n",
       "       'Risk_Chronic_Malnutrition_Or_Malabsorption',\n",
       "       'Risk_Chronic_Liver_Disease', 'Risk_Family_History_Of_Osteoporosis',\n",
       "       'Risk_Low_Calcium_Intake', 'Risk_Vitamin_D_Insufficiency',\n",
       "       'Risk_Poor_Health_Frailty', 'Risk_Excessive_Thinness',\n",
       "       'Risk_Hysterectomy_Oophorectomy', 'Risk_Estrogen_Deficiency',\n",
       "       'Risk_Immobilization', 'Risk_Recurring_Falls', 'Count_Of_Risks'],\n",
       "      dtype='object')"
      ]
     },
     "execution_count": 8,
     "metadata": {},
     "output_type": "execute_result"
    }
   ],
   "source": [
    "data.columns"
   ]
  },
  {
   "cell_type": "code",
   "execution_count": 9,
   "id": "b4053a71",
   "metadata": {},
   "outputs": [
    {
     "data": {
      "text/html": [
       "<div>\n",
       "<style scoped>\n",
       "    .dataframe tbody tr th:only-of-type {\n",
       "        vertical-align: middle;\n",
       "    }\n",
       "\n",
       "    .dataframe tbody tr th {\n",
       "        vertical-align: top;\n",
       "    }\n",
       "\n",
       "    .dataframe thead th {\n",
       "        text-align: right;\n",
       "    }\n",
       "</style>\n",
       "<table border=\"1\" class=\"dataframe\">\n",
       "  <thead>\n",
       "    <tr style=\"text-align: right;\">\n",
       "      <th></th>\n",
       "      <th>Dexa_Freq_During_Rx</th>\n",
       "      <th>Count_Of_Risks</th>\n",
       "    </tr>\n",
       "  </thead>\n",
       "  <tbody>\n",
       "    <tr>\n",
       "      <th>count</th>\n",
       "      <td>3424.000000</td>\n",
       "      <td>3424.000000</td>\n",
       "    </tr>\n",
       "    <tr>\n",
       "      <th>mean</th>\n",
       "      <td>3.016063</td>\n",
       "      <td>1.239486</td>\n",
       "    </tr>\n",
       "    <tr>\n",
       "      <th>std</th>\n",
       "      <td>8.136545</td>\n",
       "      <td>1.094914</td>\n",
       "    </tr>\n",
       "    <tr>\n",
       "      <th>min</th>\n",
       "      <td>0.000000</td>\n",
       "      <td>0.000000</td>\n",
       "    </tr>\n",
       "    <tr>\n",
       "      <th>25%</th>\n",
       "      <td>0.000000</td>\n",
       "      <td>0.000000</td>\n",
       "    </tr>\n",
       "    <tr>\n",
       "      <th>50%</th>\n",
       "      <td>0.000000</td>\n",
       "      <td>1.000000</td>\n",
       "    </tr>\n",
       "    <tr>\n",
       "      <th>75%</th>\n",
       "      <td>3.000000</td>\n",
       "      <td>2.000000</td>\n",
       "    </tr>\n",
       "    <tr>\n",
       "      <th>max</th>\n",
       "      <td>146.000000</td>\n",
       "      <td>7.000000</td>\n",
       "    </tr>\n",
       "  </tbody>\n",
       "</table>\n",
       "</div>"
      ],
      "text/plain": [
       "       Dexa_Freq_During_Rx  Count_Of_Risks\n",
       "count          3424.000000     3424.000000\n",
       "mean              3.016063        1.239486\n",
       "std               8.136545        1.094914\n",
       "min               0.000000        0.000000\n",
       "25%               0.000000        0.000000\n",
       "50%               0.000000        1.000000\n",
       "75%               3.000000        2.000000\n",
       "max             146.000000        7.000000"
      ]
     },
     "execution_count": 9,
     "metadata": {},
     "output_type": "execute_result"
    }
   ],
   "source": [
    "data.describe()"
   ]
  },
  {
   "cell_type": "code",
   "execution_count": 10,
   "id": "7d1462e8",
   "metadata": {},
   "outputs": [],
   "source": [
    "#EDA "
   ]
  },
  {
   "cell_type": "code",
   "execution_count": 11,
   "id": "63b96f7e",
   "metadata": {},
   "outputs": [],
   "source": [
    "Visualization_Cols = ['Persistency_Flag','Gender','Race','Ethnicity','Region',\n",
    "                      'Age_Bucket','Tscore_Bucket_Prior_Ntm','Adherent_Flag',\n",
    "                      'Injectable_Experience_During_Rx','Count_Of_Risks'\n",
    "                     ]"
   ]
  },
  {
   "cell_type": "code",
   "execution_count": 12,
   "id": "0d8123b7",
   "metadata": {
    "scrolled": false
   },
   "outputs": [
    {
     "data": {
      "image/png": "[encoded data removed]",
      "text/plain": [
       "<Figure size 432x288 with 1 Axes>"
      ]
     },
     "metadata": {
      "needs_background": "light"
     },
     "output_type": "display_data"
    },
    {
     "data": {
      "image/png": "[encoded data removed]",
      "text/plain": [
       "<Figure size 432x288 with 1 Axes>"
      ]
     },
     "metadata": {
      "needs_background": "light"
     },
     "output_type": "display_data"
    },
    {
     "data": {
      "image/png": "[encoded data removed]",
      "text/plain": [
       "<Figure size 432x288 with 1 Axes>"
      ]
     },
     "metadata": {
      "needs_background": "light"
     },
     "output_type": "display_data"
    },
    {
     "data": {
      "image/png": "[encoded data removed]",
      "text/plain": [
       "<Figure size 432x288 with 1 Axes>"
      ]
     },
     "metadata": {
      "needs_background": "light"
     },
     "output_type": "display_data"
    },
    {
     "data": {
      "image/png": "[encoded data removed]",
      "text/plain": [
       "<Figure size 432x288 with 1 Axes>"
      ]
     },
     "metadata": {
      "needs_background": "light"
     },
     "output_type": "display_data"
    },
    {
     "data": {
      "image/png": "[encoded data removed]",
      "text/plain": [
       "<Figure size 432x288 with 1 Axes>"
      ]
     },
     "metadata": {
      "needs_background": "light"
     },
     "output_type": "display_data"
    },
    {
     "data": {
      "image/png": "[encoded data removed]",
      "text/plain": [
       "<Figure size 432x288 with 1 Axes>"
      ]
     },
     "metadata": {
      "needs_background": "light"
     },
     "output_type": "display_data"
    },
    {
     "data": {
      "image/png": "[encoded data removed]",
      "text/plain": [
       "<Figure size 432x288 with 1 Axes>"
      ]
     },
     "metadata": {
      "needs_background": "light"
     },
     "output_type": "display_data"
    },
    {
     "data": {
      "image/png": "[encoded data removed]",
      "text/plain": [
       "<Figure size 432x288 with 1 Axes>"
      ]
     },
     "metadata": {
      "needs_background": "light"
     },
     "output_type": "display_data"
    },
    {
     "data": {
      "image/png": "[encoded data removed]",
      "text/plain": [
       "<Figure size 432x288 with 1 Axes>"
      ]
     },
     "metadata": {
      "needs_background": "light"
     },
     "output_type": "display_data"
    }
   ],
   "source": [
    "plt.style.use('fivethirtyeight')\n",
    "for col in Visualization_Cols:\n",
    "    sns.countplot(x='Persistency_Flag', data = data, hue = col)\n",
    "    plt.show()"
   ]
  },
  {
   "cell_type": "code",
   "execution_count": 13,
   "id": "10a1c963",
   "metadata": {},
   "outputs": [],
   "source": [
    "# Select Dependent and Independent Variables"
   ]
  },
  {
   "cell_type": "code",
   "execution_count": 14,
   "id": "7afe1d9e",
   "metadata": {},
   "outputs": [],
   "source": [
    "#Drop the dependent variable 'Persistency_Flag', then drop 'Ptid' we do not need the column'\n",
    "X = data.drop(columns=['Ptid','Persistency_Flag'])"
   ]
  },
  {
   "cell_type": "code",
   "execution_count": 15,
   "id": "6140b435",
   "metadata": {},
   "outputs": [
    {
     "data": {
      "text/html": [
       "<div>\n",
       "<style scoped>\n",
       "    .dataframe tbody tr th:only-of-type {\n",
       "        vertical-align: middle;\n",
       "    }\n",
       "\n",
       "    .dataframe tbody tr th {\n",
       "        vertical-align: top;\n",
       "    }\n",
       "\n",
       "    .dataframe thead th {\n",
       "        text-align: right;\n",
       "    }\n",
       "</style>\n",
       "<table border=\"1\" class=\"dataframe\">\n",
       "  <thead>\n",
       "    <tr style=\"text-align: right;\">\n",
       "      <th></th>\n",
       "      <th>Gender</th>\n",
       "      <th>Race</th>\n",
       "      <th>Ethnicity</th>\n",
       "      <th>Region</th>\n",
       "      <th>Age_Bucket</th>\n",
       "      <th>Ntm_Speciality</th>\n",
       "      <th>Ntm_Specialist_Flag</th>\n",
       "      <th>Ntm_Speciality_Bucket</th>\n",
       "      <th>Gluco_Record_Prior_Ntm</th>\n",
       "      <th>Gluco_Record_During_Rx</th>\n",
       "      <th>...</th>\n",
       "      <th>Risk_Family_History_Of_Osteoporosis</th>\n",
       "      <th>Risk_Low_Calcium_Intake</th>\n",
       "      <th>Risk_Vitamin_D_Insufficiency</th>\n",
       "      <th>Risk_Poor_Health_Frailty</th>\n",
       "      <th>Risk_Excessive_Thinness</th>\n",
       "      <th>Risk_Hysterectomy_Oophorectomy</th>\n",
       "      <th>Risk_Estrogen_Deficiency</th>\n",
       "      <th>Risk_Immobilization</th>\n",
       "      <th>Risk_Recurring_Falls</th>\n",
       "      <th>Count_Of_Risks</th>\n",
       "    </tr>\n",
       "  </thead>\n",
       "  <tbody>\n",
       "    <tr>\n",
       "      <th>0</th>\n",
       "      <td>Male</td>\n",
       "      <td>Caucasian</td>\n",
       "      <td>Not Hispanic</td>\n",
       "      <td>West</td>\n",
       "      <td>&gt;75</td>\n",
       "      <td>GENERAL PRACTITIONER</td>\n",
       "      <td>Others</td>\n",
       "      <td>OB/GYN/Others/PCP/Unknown</td>\n",
       "      <td>N</td>\n",
       "      <td>N</td>\n",
       "      <td>...</td>\n",
       "      <td>N</td>\n",
       "      <td>N</td>\n",
       "      <td>N</td>\n",
       "      <td>N</td>\n",
       "      <td>N</td>\n",
       "      <td>N</td>\n",
       "      <td>N</td>\n",
       "      <td>N</td>\n",
       "      <td>N</td>\n",
       "      <td>0</td>\n",
       "    </tr>\n",
       "    <tr>\n",
       "      <th>1</th>\n",
       "      <td>Male</td>\n",
       "      <td>Asian</td>\n",
       "      <td>Not Hispanic</td>\n",
       "      <td>West</td>\n",
       "      <td>55-65</td>\n",
       "      <td>GENERAL PRACTITIONER</td>\n",
       "      <td>Others</td>\n",
       "      <td>OB/GYN/Others/PCP/Unknown</td>\n",
       "      <td>N</td>\n",
       "      <td>N</td>\n",
       "      <td>...</td>\n",
       "      <td>N</td>\n",
       "      <td>N</td>\n",
       "      <td>N</td>\n",
       "      <td>N</td>\n",
       "      <td>N</td>\n",
       "      <td>N</td>\n",
       "      <td>N</td>\n",
       "      <td>N</td>\n",
       "      <td>N</td>\n",
       "      <td>0</td>\n",
       "    </tr>\n",
       "    <tr>\n",
       "      <th>2</th>\n",
       "      <td>Female</td>\n",
       "      <td>Other/Unknown</td>\n",
       "      <td>Hispanic</td>\n",
       "      <td>Midwest</td>\n",
       "      <td>65-75</td>\n",
       "      <td>GENERAL PRACTITIONER</td>\n",
       "      <td>Others</td>\n",
       "      <td>OB/GYN/Others/PCP/Unknown</td>\n",
       "      <td>N</td>\n",
       "      <td>N</td>\n",
       "      <td>...</td>\n",
       "      <td>N</td>\n",
       "      <td>Y</td>\n",
       "      <td>N</td>\n",
       "      <td>N</td>\n",
       "      <td>N</td>\n",
       "      <td>N</td>\n",
       "      <td>N</td>\n",
       "      <td>N</td>\n",
       "      <td>N</td>\n",
       "      <td>2</td>\n",
       "    </tr>\n",
       "    <tr>\n",
       "      <th>3</th>\n",
       "      <td>Female</td>\n",
       "      <td>Caucasian</td>\n",
       "      <td>Not Hispanic</td>\n",
       "      <td>Midwest</td>\n",
       "      <td>&gt;75</td>\n",
       "      <td>GENERAL PRACTITIONER</td>\n",
       "      <td>Others</td>\n",
       "      <td>OB/GYN/Others/PCP/Unknown</td>\n",
       "      <td>N</td>\n",
       "      <td>Y</td>\n",
       "      <td>...</td>\n",
       "      <td>N</td>\n",
       "      <td>N</td>\n",
       "      <td>N</td>\n",
       "      <td>N</td>\n",
       "      <td>N</td>\n",
       "      <td>N</td>\n",
       "      <td>N</td>\n",
       "      <td>N</td>\n",
       "      <td>N</td>\n",
       "      <td>1</td>\n",
       "    </tr>\n",
       "    <tr>\n",
       "      <th>4</th>\n",
       "      <td>Female</td>\n",
       "      <td>Caucasian</td>\n",
       "      <td>Not Hispanic</td>\n",
       "      <td>Midwest</td>\n",
       "      <td>&gt;75</td>\n",
       "      <td>GENERAL PRACTITIONER</td>\n",
       "      <td>Others</td>\n",
       "      <td>OB/GYN/Others/PCP/Unknown</td>\n",
       "      <td>Y</td>\n",
       "      <td>Y</td>\n",
       "      <td>...</td>\n",
       "      <td>N</td>\n",
       "      <td>N</td>\n",
       "      <td>N</td>\n",
       "      <td>N</td>\n",
       "      <td>N</td>\n",
       "      <td>N</td>\n",
       "      <td>N</td>\n",
       "      <td>N</td>\n",
       "      <td>N</td>\n",
       "      <td>1</td>\n",
       "    </tr>\n",
       "  </tbody>\n",
       "</table>\n",
       "<p>5 rows × 67 columns</p>\n",
       "</div>"
      ],
      "text/plain": [
       "   Gender           Race     Ethnicity   Region Age_Bucket  \\\n",
       "0    Male      Caucasian  Not Hispanic     West        >75   \n",
       "1    Male          Asian  Not Hispanic     West      55-65   \n",
       "2  Female  Other/Unknown      Hispanic  Midwest      65-75   \n",
       "3  Female      Caucasian  Not Hispanic  Midwest        >75   \n",
       "4  Female      Caucasian  Not Hispanic  Midwest        >75   \n",
       "\n",
       "         Ntm_Speciality Ntm_Specialist_Flag      Ntm_Speciality_Bucket  \\\n",
       "0  GENERAL PRACTITIONER              Others  OB/GYN/Others/PCP/Unknown   \n",
       "1  GENERAL PRACTITIONER              Others  OB/GYN/Others/PCP/Unknown   \n",
       "2  GENERAL PRACTITIONER              Others  OB/GYN/Others/PCP/Unknown   \n",
       "3  GENERAL PRACTITIONER              Others  OB/GYN/Others/PCP/Unknown   \n",
       "4  GENERAL PRACTITIONER              Others  OB/GYN/Others/PCP/Unknown   \n",
       "\n",
       "  Gluco_Record_Prior_Ntm Gluco_Record_During_Rx  ...  \\\n",
       "0                      N                      N  ...   \n",
       "1                      N                      N  ...   \n",
       "2                      N                      N  ...   \n",
       "3                      N                      Y  ...   \n",
       "4                      Y                      Y  ...   \n",
       "\n",
       "   Risk_Family_History_Of_Osteoporosis Risk_Low_Calcium_Intake  \\\n",
       "0                                    N                       N   \n",
       "1                                    N                       N   \n",
       "2                                    N                       Y   \n",
       "3                                    N                       N   \n",
       "4                                    N                       N   \n",
       "\n",
       "  Risk_Vitamin_D_Insufficiency Risk_Poor_Health_Frailty  \\\n",
       "0                            N                        N   \n",
       "1                            N                        N   \n",
       "2                            N                        N   \n",
       "3                            N                        N   \n",
       "4                            N                        N   \n",
       "\n",
       "  Risk_Excessive_Thinness Risk_Hysterectomy_Oophorectomy  \\\n",
       "0                       N                              N   \n",
       "1                       N                              N   \n",
       "2                       N                              N   \n",
       "3                       N                              N   \n",
       "4                       N                              N   \n",
       "\n",
       "  Risk_Estrogen_Deficiency Risk_Immobilization Risk_Recurring_Falls  \\\n",
       "0                        N                   N                    N   \n",
       "1                        N                   N                    N   \n",
       "2                        N                   N                    N   \n",
       "3                        N                   N                    N   \n",
       "4                        N                   N                    N   \n",
       "\n",
       "  Count_Of_Risks  \n",
       "0              0  \n",
       "1              0  \n",
       "2              2  \n",
       "3              1  \n",
       "4              1  \n",
       "\n",
       "[5 rows x 67 columns]"
      ]
     },
     "execution_count": 15,
     "metadata": {},
     "output_type": "execute_result"
    }
   ],
   "source": [
    "X.head()"
   ]
  },
  {
   "cell_type": "code",
   "execution_count": 16,
   "id": "82413e57",
   "metadata": {},
   "outputs": [],
   "source": [
    "# Select our Dependent variable 'Persistency_Flag'\n",
    "y = data.Persistency_Flag"
   ]
  },
  {
   "cell_type": "code",
   "execution_count": 17,
   "id": "baa73216",
   "metadata": {},
   "outputs": [
    {
     "data": {
      "text/plain": [
       "0        Persistent\n",
       "1    Non-Persistent\n",
       "2    Non-Persistent\n",
       "3    Non-Persistent\n",
       "4    Non-Persistent\n",
       "Name: Persistency_Flag, dtype: object"
      ]
     },
     "execution_count": 17,
     "metadata": {},
     "output_type": "execute_result"
    }
   ],
   "source": [
    "y[:5]"
   ]
  },
  {
   "cell_type": "code",
   "execution_count": 18,
   "id": "d7e93806",
   "metadata": {},
   "outputs": [],
   "source": [
    "# Now that we have selected our dependent and independent variable,\n",
    "# It is important to note that we need to encode our columns as computer only works well with numerical data\n",
    "# Since we already have a dataset with 60 columns, using pandas One-Hot_Encoding wouldn't be smart. \n",
    "# Hence, we use the LabelEncoder library. "
   ]
  },
  {
   "cell_type": "code",
   "execution_count": 23,
   "id": "6ce4a4c8",
   "metadata": {},
   "outputs": [],
   "source": [
    "#Create an object of the Label Encoder library\n",
    "Le = LabelEncoder()"
   ]
  },
  {
   "cell_type": "code",
   "execution_count": 24,
   "id": "28198e29",
   "metadata": {},
   "outputs": [],
   "source": [
    "# Encode our target column\n",
    "y = Le.fit_transform(y)"
   ]
  },
  {
   "cell_type": "code",
   "execution_count": 25,
   "id": "dd963ca4",
   "metadata": {},
   "outputs": [
    {
     "data": {
      "text/plain": [
       "array([1, 0, 0, 0, 0])"
      ]
     },
     "execution_count": 25,
     "metadata": {},
     "output_type": "execute_result"
    }
   ],
   "source": [
    "y[:5]"
   ]
  },
  {
   "cell_type": "code",
   "execution_count": 26,
   "id": "1a208adc",
   "metadata": {},
   "outputs": [
    {
     "data": {
      "text/html": [
       "<div>\n",
       "<style scoped>\n",
       "    .dataframe tbody tr th:only-of-type {\n",
       "        vertical-align: middle;\n",
       "    }\n",
       "\n",
       "    .dataframe tbody tr th {\n",
       "        vertical-align: top;\n",
       "    }\n",
       "\n",
       "    .dataframe thead th {\n",
       "        text-align: right;\n",
       "    }\n",
       "</style>\n",
       "<table border=\"1\" class=\"dataframe\">\n",
       "  <thead>\n",
       "    <tr style=\"text-align: right;\">\n",
       "      <th></th>\n",
       "      <th>Dexa_Freq_During_Rx</th>\n",
       "      <th>Count_Of_Risks</th>\n",
       "    </tr>\n",
       "  </thead>\n",
       "  <tbody>\n",
       "    <tr>\n",
       "      <th>count</th>\n",
       "      <td>3424.000000</td>\n",
       "      <td>3424.000000</td>\n",
       "    </tr>\n",
       "    <tr>\n",
       "      <th>mean</th>\n",
       "      <td>3.016063</td>\n",
       "      <td>1.239486</td>\n",
       "    </tr>\n",
       "    <tr>\n",
       "      <th>std</th>\n",
       "      <td>8.136545</td>\n",
       "      <td>1.094914</td>\n",
       "    </tr>\n",
       "    <tr>\n",
       "      <th>min</th>\n",
       "      <td>0.000000</td>\n",
       "      <td>0.000000</td>\n",
       "    </tr>\n",
       "    <tr>\n",
       "      <th>25%</th>\n",
       "      <td>0.000000</td>\n",
       "      <td>0.000000</td>\n",
       "    </tr>\n",
       "    <tr>\n",
       "      <th>50%</th>\n",
       "      <td>0.000000</td>\n",
       "      <td>1.000000</td>\n",
       "    </tr>\n",
       "    <tr>\n",
       "      <th>75%</th>\n",
       "      <td>3.000000</td>\n",
       "      <td>2.000000</td>\n",
       "    </tr>\n",
       "    <tr>\n",
       "      <th>max</th>\n",
       "      <td>146.000000</td>\n",
       "      <td>7.000000</td>\n",
       "    </tr>\n",
       "  </tbody>\n",
       "</table>\n",
       "</div>"
      ],
      "text/plain": [
       "       Dexa_Freq_During_Rx  Count_Of_Risks\n",
       "count          3424.000000     3424.000000\n",
       "mean              3.016063        1.239486\n",
       "std               8.136545        1.094914\n",
       "min               0.000000        0.000000\n",
       "25%               0.000000        0.000000\n",
       "50%               0.000000        1.000000\n",
       "75%               3.000000        2.000000\n",
       "max             146.000000        7.000000"
      ]
     },
     "execution_count": 26,
     "metadata": {},
     "output_type": "execute_result"
    }
   ],
   "source": [
    "#Get the columns that are numeric\n",
    "X.describe()"
   ]
  },
  {
   "cell_type": "code",
   "execution_count": 29,
   "id": "dc81b476",
   "metadata": {},
   "outputs": [],
   "source": [
    "#Columns to Encode\n",
    "CTE = ['Gender', 'Race', 'Ethnicity', 'Region', 'Age_Bucket', 'Ntm_Speciality', 'Ntm_Specialist_Flag', \n",
    "       'Ntm_Speciality_Bucket', 'Gluco_Record_Prior_Ntm', 'Gluco_Record_During_Rx', 'Dexa_During_Rx', \n",
    "       'Frag_Frac_Prior_Ntm', 'Frag_Frac_During_Rx', 'Risk_Segment_Prior_Ntm', 'Tscore_Bucket_Prior_Ntm',\n",
    "       'Risk_Segment_During_Rx', 'Tscore_Bucket_During_Rx', 'Change_T_Score', 'Change_Risk_Segment',\n",
    "       'Adherent_Flag', 'Idn_Indicator', 'Injectable_Experience_During_Rx', \n",
    "       'Comorb_Encounter_For_Screening_For_Malignant_Neoplasms', 'Comorb_Encounter_For_Immunization',\n",
    "       'Comorb_Encntr_For_General_Exam_W_O_Complaint,_Susp_Or_Reprtd_Dx', 'Comorb_Vitamin_D_Deficiency',\n",
    "       'Comorb_Other_Joint_Disorder_Not_Elsewhere_Classified', \n",
    "       'Comorb_Encntr_For_Oth_Sp_Exam_W_O_Complaint_Suspected_Or_Reprtd_Dx', 'Comorb_Long_Term_Current_Drug_Therapy',\n",
    "       'Comorb_Dorsalgia', 'Comorb_Personal_History_Of_Other_Diseases_And_Conditions',\n",
    "       'Comorb_Other_Disorders_Of_Bone_Density_And_Structure',\n",
    "       'Comorb_Disorders_of_lipoprotein_metabolism_and_other_lipidemias',\n",
    "       'Comorb_Osteoporosis_without_current_pathological_fracture', 'Comorb_Personal_history_of_malignant_neoplasm',\n",
    "       'Comorb_Gastro_esophageal_reflux_disease', 'Concom_Cholesterol_And_Triglyceride_Regulating_Preparations',\n",
    "       'Concom_Narcotics', 'Concom_Systemic_Corticosteroids_Plain', 'Concom_Anti_Depressants_And_Mood_Stabilisers',\n",
    "       'Concom_Fluoroquinolones', 'Concom_Cephalosporins', 'Concom_Macrolides_And_Similar_Types',\n",
    "       'Concom_Broad_Spectrum_Penicillins', 'Concom_Anaesthetics_General', 'Concom_Viral_Vaccines',\n",
    "       'Risk_Type_1_Insulin_Dependent_Diabetes', 'Risk_Osteogenesis_Imperfecta', 'Risk_Rheumatoid_Arthritis',\n",
    "       'Risk_Untreated_Chronic_Hyperthyroidism', 'Risk_Untreated_Chronic_Hypogonadism',\n",
    "       'Risk_Untreated_Early_Menopause', 'Risk_Patient_Parent_Fractured_Their_Hip', 'Risk_Smoking_Tobacco',\n",
    "       'Risk_Chronic_Malnutrition_Or_Malabsorption', 'Risk_Chronic_Liver_Disease',\n",
    "       'Risk_Family_History_Of_Osteoporosis', 'Risk_Low_Calcium_Intake', 'Risk_Vitamin_D_Insufficiency',\n",
    "       'Risk_Poor_Health_Frailty', 'Risk_Excessive_Thinness', 'Risk_Hysterectomy_Oophorectomy',\n",
    "       'Risk_Estrogen_Deficiency', 'Risk_Immobilization', 'Risk_Recurring_Falls']"
   ]
  },
  {
   "cell_type": "code",
   "execution_count": 39,
   "id": "8152f427",
   "metadata": {},
   "outputs": [],
   "source": [
    "# Encode the other cartegorical variables\n",
    "for col in CTE:\n",
    "    X[col] = Le.fit_transform(X[col])"
   ]
  },
  {
   "cell_type": "code",
   "execution_count": 40,
   "id": "22ccff81",
   "metadata": {},
   "outputs": [
    {
     "data": {
      "text/html": [
       "<div>\n",
       "<style scoped>\n",
       "    .dataframe tbody tr th:only-of-type {\n",
       "        vertical-align: middle;\n",
       "    }\n",
       "\n",
       "    .dataframe tbody tr th {\n",
       "        vertical-align: top;\n",
       "    }\n",
       "\n",
       "    .dataframe thead th {\n",
       "        text-align: right;\n",
       "    }\n",
       "</style>\n",
       "<table border=\"1\" class=\"dataframe\">\n",
       "  <thead>\n",
       "    <tr style=\"text-align: right;\">\n",
       "      <th></th>\n",
       "      <th>Gender</th>\n",
       "      <th>Race</th>\n",
       "      <th>Ethnicity</th>\n",
       "      <th>Region</th>\n",
       "      <th>Age_Bucket</th>\n",
       "      <th>Ntm_Speciality</th>\n",
       "      <th>Ntm_Specialist_Flag</th>\n",
       "      <th>Ntm_Speciality_Bucket</th>\n",
       "      <th>Gluco_Record_Prior_Ntm</th>\n",
       "      <th>Gluco_Record_During_Rx</th>\n",
       "      <th>...</th>\n",
       "      <th>Risk_Family_History_Of_Osteoporosis</th>\n",
       "      <th>Risk_Low_Calcium_Intake</th>\n",
       "      <th>Risk_Vitamin_D_Insufficiency</th>\n",
       "      <th>Risk_Poor_Health_Frailty</th>\n",
       "      <th>Risk_Excessive_Thinness</th>\n",
       "      <th>Risk_Hysterectomy_Oophorectomy</th>\n",
       "      <th>Risk_Estrogen_Deficiency</th>\n",
       "      <th>Risk_Immobilization</th>\n",
       "      <th>Risk_Recurring_Falls</th>\n",
       "      <th>Count_Of_Risks</th>\n",
       "    </tr>\n",
       "  </thead>\n",
       "  <tbody>\n",
       "    <tr>\n",
       "      <th>0</th>\n",
       "      <td>1</td>\n",
       "      <td>2</td>\n",
       "      <td>1</td>\n",
       "      <td>4</td>\n",
       "      <td>3</td>\n",
       "      <td>5</td>\n",
       "      <td>0</td>\n",
       "      <td>1</td>\n",
       "      <td>0</td>\n",
       "      <td>0</td>\n",
       "      <td>...</td>\n",
       "      <td>0</td>\n",
       "      <td>0</td>\n",
       "      <td>0</td>\n",
       "      <td>0</td>\n",
       "      <td>0</td>\n",
       "      <td>0</td>\n",
       "      <td>0</td>\n",
       "      <td>0</td>\n",
       "      <td>0</td>\n",
       "      <td>0</td>\n",
       "    </tr>\n",
       "    <tr>\n",
       "      <th>1</th>\n",
       "      <td>1</td>\n",
       "      <td>1</td>\n",
       "      <td>1</td>\n",
       "      <td>4</td>\n",
       "      <td>0</td>\n",
       "      <td>5</td>\n",
       "      <td>0</td>\n",
       "      <td>1</td>\n",
       "      <td>0</td>\n",
       "      <td>0</td>\n",
       "      <td>...</td>\n",
       "      <td>0</td>\n",
       "      <td>0</td>\n",
       "      <td>0</td>\n",
       "      <td>0</td>\n",
       "      <td>0</td>\n",
       "      <td>0</td>\n",
       "      <td>0</td>\n",
       "      <td>0</td>\n",
       "      <td>0</td>\n",
       "      <td>0</td>\n",
       "    </tr>\n",
       "    <tr>\n",
       "      <th>2</th>\n",
       "      <td>0</td>\n",
       "      <td>3</td>\n",
       "      <td>0</td>\n",
       "      <td>0</td>\n",
       "      <td>1</td>\n",
       "      <td>5</td>\n",
       "      <td>0</td>\n",
       "      <td>1</td>\n",
       "      <td>0</td>\n",
       "      <td>0</td>\n",
       "      <td>...</td>\n",
       "      <td>0</td>\n",
       "      <td>1</td>\n",
       "      <td>0</td>\n",
       "      <td>0</td>\n",
       "      <td>0</td>\n",
       "      <td>0</td>\n",
       "      <td>0</td>\n",
       "      <td>0</td>\n",
       "      <td>0</td>\n",
       "      <td>2</td>\n",
       "    </tr>\n",
       "    <tr>\n",
       "      <th>3</th>\n",
       "      <td>0</td>\n",
       "      <td>2</td>\n",
       "      <td>1</td>\n",
       "      <td>0</td>\n",
       "      <td>3</td>\n",
       "      <td>5</td>\n",
       "      <td>0</td>\n",
       "      <td>1</td>\n",
       "      <td>0</td>\n",
       "      <td>1</td>\n",
       "      <td>...</td>\n",
       "      <td>0</td>\n",
       "      <td>0</td>\n",
       "      <td>0</td>\n",
       "      <td>0</td>\n",
       "      <td>0</td>\n",
       "      <td>0</td>\n",
       "      <td>0</td>\n",
       "      <td>0</td>\n",
       "      <td>0</td>\n",
       "      <td>1</td>\n",
       "    </tr>\n",
       "    <tr>\n",
       "      <th>4</th>\n",
       "      <td>0</td>\n",
       "      <td>2</td>\n",
       "      <td>1</td>\n",
       "      <td>0</td>\n",
       "      <td>3</td>\n",
       "      <td>5</td>\n",
       "      <td>0</td>\n",
       "      <td>1</td>\n",
       "      <td>1</td>\n",
       "      <td>1</td>\n",
       "      <td>...</td>\n",
       "      <td>0</td>\n",
       "      <td>0</td>\n",
       "      <td>0</td>\n",
       "      <td>0</td>\n",
       "      <td>0</td>\n",
       "      <td>0</td>\n",
       "      <td>0</td>\n",
       "      <td>0</td>\n",
       "      <td>0</td>\n",
       "      <td>1</td>\n",
       "    </tr>\n",
       "  </tbody>\n",
       "</table>\n",
       "<p>5 rows × 67 columns</p>\n",
       "</div>"
      ],
      "text/plain": [
       "   Gender  Race  Ethnicity  Region  Age_Bucket  Ntm_Speciality  \\\n",
       "0       1     2          1       4           3               5   \n",
       "1       1     1          1       4           0               5   \n",
       "2       0     3          0       0           1               5   \n",
       "3       0     2          1       0           3               5   \n",
       "4       0     2          1       0           3               5   \n",
       "\n",
       "   Ntm_Specialist_Flag  Ntm_Speciality_Bucket  Gluco_Record_Prior_Ntm  \\\n",
       "0                    0                      1                       0   \n",
       "1                    0                      1                       0   \n",
       "2                    0                      1                       0   \n",
       "3                    0                      1                       0   \n",
       "4                    0                      1                       1   \n",
       "\n",
       "   Gluco_Record_During_Rx  ...  Risk_Family_History_Of_Osteoporosis  \\\n",
       "0                       0  ...                                    0   \n",
       "1                       0  ...                                    0   \n",
       "2                       0  ...                                    0   \n",
       "3                       1  ...                                    0   \n",
       "4                       1  ...                                    0   \n",
       "\n",
       "   Risk_Low_Calcium_Intake  Risk_Vitamin_D_Insufficiency  \\\n",
       "0                        0                             0   \n",
       "1                        0                             0   \n",
       "2                        1                             0   \n",
       "3                        0                             0   \n",
       "4                        0                             0   \n",
       "\n",
       "   Risk_Poor_Health_Frailty  Risk_Excessive_Thinness  \\\n",
       "0                         0                        0   \n",
       "1                         0                        0   \n",
       "2                         0                        0   \n",
       "3                         0                        0   \n",
       "4                         0                        0   \n",
       "\n",
       "   Risk_Hysterectomy_Oophorectomy  Risk_Estrogen_Deficiency  \\\n",
       "0                               0                         0   \n",
       "1                               0                         0   \n",
       "2                               0                         0   \n",
       "3                               0                         0   \n",
       "4                               0                         0   \n",
       "\n",
       "   Risk_Immobilization  Risk_Recurring_Falls  Count_Of_Risks  \n",
       "0                    0                     0               0  \n",
       "1                    0                     0               0  \n",
       "2                    0                     0               2  \n",
       "3                    0                     0               1  \n",
       "4                    0                     0               1  \n",
       "\n",
       "[5 rows x 67 columns]"
      ]
     },
     "execution_count": 40,
     "metadata": {},
     "output_type": "execute_result"
    }
   ],
   "source": [
    "X.head()"
   ]
  },
  {
   "cell_type": "code",
   "execution_count": 41,
   "id": "cf1dc49b",
   "metadata": {},
   "outputs": [],
   "source": [
    "#We have successfully encoded our data. \n",
    "# Now we split our data into training and testing set"
   ]
  },
  {
   "cell_type": "code",
   "execution_count": 43,
   "id": "fa04d7a7",
   "metadata": {},
   "outputs": [],
   "source": [
    "#Split the data into training and test sets\n",
    "X_train,X_test,y_train,y_test = train_test_split(X,y,test_size=0.3,random_state=10,stratify=y)"
   ]
  },
  {
   "cell_type": "code",
   "execution_count": 44,
   "id": "a24b3ada",
   "metadata": {},
   "outputs": [
    {
     "data": {
      "text/plain": [
       "((2396, 67), (1028, 67), (2396,), (1028,))"
      ]
     },
     "execution_count": 44,
     "metadata": {},
     "output_type": "execute_result"
    }
   ],
   "source": [
    "# Check the shape of our data\n",
    "X_train.shape,X_test.shape,y_train.shape,y_test.shape"
   ]
  },
  {
   "cell_type": "code",
   "execution_count": 46,
   "id": "ab193151",
   "metadata": {},
   "outputs": [],
   "source": [
    "#There is an imbalance in the dataset. \n",
    "#We use SMOTE to settle the imbalance in the dataset"
   ]
  },
  {
   "cell_type": "code",
   "execution_count": 48,
   "id": "6dcab8f9",
   "metadata": {},
   "outputs": [],
   "source": [
    "# Create an object of our SMOTE library\n",
    "sm = SMOTE(random_state=2)"
   ]
  },
  {
   "cell_type": "code",
   "execution_count": 49,
   "id": "890e590a",
   "metadata": {},
   "outputs": [],
   "source": [
    "# Performing oversampling on our train set\n",
    "X_train,y_train = sm.fit_resample(X_train,y_train)"
   ]
  },
  {
   "cell_type": "markdown",
   "id": "6d00ed9a",
   "metadata": {},
   "source": [
    "<h2 style='font-weight:bold;color:#ff0000;text-align:center'>    1. Logistic Regression </h2>"
   ]
  },
  {
   "cell_type": "code",
   "execution_count": 97,
   "id": "d61f1190",
   "metadata": {},
   "outputs": [
    {
     "data": {
      "text/html": [
       "<style>#sk-container-id-14 {color: black;background-color: white;}#sk-container-id-14 pre{padding: 0;}#sk-container-id-14 div.sk-toggleable {background-color: white;}#sk-container-id-14 label.sk-toggleable__label {cursor: pointer;display: block;width: 100%;margin-bottom: 0;padding: 0.3em;box-sizing: border-box;text-align: center;}#sk-container-id-14 label.sk-toggleable__label-arrow:before {content: \"▸\";float: left;margin-right: 0.25em;color: #696969;}#sk-container-id-14 label.sk-toggleable__label-arrow:hover:before {color: black;}#sk-container-id-14 div.sk-estimator:hover label.sk-toggleable__label-arrow:before {color: black;}#sk-container-id-14 div.sk-toggleable__content {max-height: 0;max-width: 0;overflow: hidden;text-align: left;background-color: #f0f8ff;}#sk-container-id-14 div.sk-toggleable__content pre {margin: 0.2em;color: black;border-radius: 0.25em;background-color: #f0f8ff;}#sk-container-id-14 input.sk-toggleable__control:checked~div.sk-toggleable__content {max-height: 200px;max-width: 100%;overflow: auto;}#sk-container-id-14 input.sk-toggleable__control:checked~label.sk-toggleable__label-arrow:before {content: \"▾\";}#sk-container-id-14 div.sk-estimator input.sk-toggleable__control:checked~label.sk-toggleable__label {background-color: #d4ebff;}#sk-container-id-14 div.sk-label input.sk-toggleable__control:checked~label.sk-toggleable__label {background-color: #d4ebff;}#sk-container-id-14 input.sk-hidden--visually {border: 0;clip: rect(1px 1px 1px 1px);clip: rect(1px, 1px, 1px, 1px);height: 1px;margin: -1px;overflow: hidden;padding: 0;position: absolute;width: 1px;}#sk-container-id-14 div.sk-estimator {font-family: monospace;background-color: #f0f8ff;border: 1px dotted black;border-radius: 0.25em;box-sizing: border-box;margin-bottom: 0.5em;}#sk-container-id-14 div.sk-estimator:hover {background-color: #d4ebff;}#sk-container-id-14 div.sk-parallel-item::after {content: \"\";width: 100%;border-bottom: 1px solid gray;flex-grow: 1;}#sk-container-id-14 div.sk-label:hover label.sk-toggleable__label {background-color: #d4ebff;}#sk-container-id-14 div.sk-serial::before {content: \"\";position: absolute;border-left: 1px solid gray;box-sizing: border-box;top: 0;bottom: 0;left: 50%;z-index: 0;}#sk-container-id-14 div.sk-serial {display: flex;flex-direction: column;align-items: center;background-color: white;padding-right: 0.2em;padding-left: 0.2em;position: relative;}#sk-container-id-14 div.sk-item {position: relative;z-index: 1;}#sk-container-id-14 div.sk-parallel {display: flex;align-items: stretch;justify-content: center;background-color: white;position: relative;}#sk-container-id-14 div.sk-item::before, #sk-container-id-14 div.sk-parallel-item::before {content: \"\";position: absolute;border-left: 1px solid gray;box-sizing: border-box;top: 0;bottom: 0;left: 50%;z-index: -1;}#sk-container-id-14 div.sk-parallel-item {display: flex;flex-direction: column;z-index: 1;position: relative;background-color: white;}#sk-container-id-14 div.sk-parallel-item:first-child::after {align-self: flex-end;width: 50%;}#sk-container-id-14 div.sk-parallel-item:last-child::after {align-self: flex-start;width: 50%;}#sk-container-id-14 div.sk-parallel-item:only-child::after {width: 0;}#sk-container-id-14 div.sk-dashed-wrapped {border: 1px dashed gray;margin: 0 0.4em 0.5em 0.4em;box-sizing: border-box;padding-bottom: 0.4em;background-color: white;}#sk-container-id-14 div.sk-label label {font-family: monospace;font-weight: bold;display: inline-block;line-height: 1.2em;}#sk-container-id-14 div.sk-label-container {text-align: center;}#sk-container-id-14 div.sk-container {/* jupyter's `normalize.less` sets `[hidden] { display: none; }` but bootstrap.min.css set `[hidden] { display: none !important; }` so we also need the `!important` here to be able to override the default hidden behavior on the sphinx rendered scikit-learn.org. See: https://github.com/scikit-learn/scikit-learn/issues/21755 */display: inline-block !important;position: relative;}#sk-container-id-14 div.sk-text-repr-fallback {display: none;}</style><div id=\"sk-container-id-14\" class=\"sk-top-container\"><div class=\"sk-text-repr-fallback\"><pre>LogisticRegression(max_iter=5000, solver=&#x27;newton-cg&#x27;)</pre><b>In a Jupyter environment, please rerun this cell to show the HTML representation or trust the notebook. <br />On GitHub, the HTML representation is unable to render, please try loading this page with nbviewer.org.</b></div><div class=\"sk-container\" hidden><div class=\"sk-item\"><div class=\"sk-estimator sk-toggleable\"><input class=\"sk-toggleable__control sk-hidden--visually\" id=\"sk-estimator-id-14\" type=\"checkbox\" checked><label for=\"sk-estimator-id-14\" class=\"sk-toggleable__label sk-toggleable__label-arrow\">LogisticRegression</label><div class=\"sk-toggleable__content\"><pre>LogisticRegression(max_iter=5000, solver=&#x27;newton-cg&#x27;)</pre></div></div></div></div></div>"
      ],
      "text/plain": [
       "LogisticRegression(max_iter=5000, solver='newton-cg')"
      ]
     },
     "execution_count": 97,
     "metadata": {},
     "output_type": "execute_result"
    }
   ],
   "source": [
    "Lr_model = LogisticRegression(max_iter=5000,solver='newton-cg')\n",
    "Lr_model.fit(X_train,y_train)"
   ]
  },
  {
   "cell_type": "code",
   "execution_count": 98,
   "id": "eeca109b",
   "metadata": {},
   "outputs": [],
   "source": [
    "Lr_score = Lr_model.score(X_test,y_test) * 100 "
   ]
  },
  {
   "cell_type": "code",
   "execution_count": 99,
   "id": "bfc2b317",
   "metadata": {},
   "outputs": [
    {
     "name": "stdout",
     "output_type": "stream",
     "text": [
      "Accuracy Score using Logistic Regression = 77.82%\n"
     ]
    }
   ],
   "source": [
    "print(f'Accuracy Score using Logistic Regression = {Lr_score:.2f}%')"
   ]
  },
  {
   "cell_type": "code",
   "execution_count": 195,
   "id": "19ed7553",
   "metadata": {},
   "outputs": [],
   "source": [
    "Lr_pred = Lr_model.predict(X_test)"
   ]
  },
  {
   "cell_type": "code",
   "execution_count": 104,
   "id": "ea58c2e3",
   "metadata": {},
   "outputs": [
    {
     "name": "stdout",
     "output_type": "stream",
     "text": [
      "              precision    recall  f1-score   support\n",
      "\n",
      "           0       0.83      0.81      0.82       641\n",
      "           1       0.70      0.72      0.71       387\n",
      "\n",
      "    accuracy                           0.78      1028\n",
      "   macro avg       0.76      0.77      0.77      1028\n",
      "weighted avg       0.78      0.78      0.78      1028\n",
      "\n"
     ]
    }
   ],
   "source": [
    "print(classification_report(y_test, Lr_pred))"
   ]
  },
  {
   "cell_type": "code",
   "execution_count": 106,
   "id": "16e26d19",
   "metadata": {},
   "outputs": [
    {
     "name": "stdout",
     "output_type": "stream",
     "text": [
      "Auc is 0.767\n"
     ]
    }
   ],
   "source": [
    "Lr_auc = np.round(roc_auc_score(y_test, Lr_pred), 3)\n",
    " \n",
    "print(\"Auc is {}\". format(Lr_auc))"
   ]
  },
  {
   "cell_type": "code",
   "execution_count": 109,
   "id": "76b23c6d",
   "metadata": {},
   "outputs": [
    {
     "data": {
      "image/png": "[encoded data removed]",
      "text/plain": [
       "<Figure size 432x288 with 1 Axes>"
      ]
     },
     "metadata": {
      "needs_background": "light"
     },
     "output_type": "display_data"
    }
   ],
   "source": [
    "# predict probabilities\n",
    "yhat = Lr_model.predict_proba(X_test)\n",
    "\n",
    "# retrieve just the probabilities for the positive class\n",
    "pos_probs = yhat[:, 1]\n",
    "\n",
    "# plot no skill roc curve\n",
    "plt.plot([0, 1], [0, 1], linestyle='--', label='No Skill')\n",
    "# calculate roc curve for model\n",
    "fpr, tpr, _ = roc_curve(y_test, pos_probs)\n",
    "# plot model roc curve\n",
    "plt.plot(fpr, tpr, marker='.', label='Logistic')\n",
    "# axis labels\n",
    "plt.xlabel('False Positive Rate')\n",
    "plt.ylabel('True Positive Rate')\n",
    "# show the legend\n",
    "plt.legend()\n",
    "# show the plot\n",
    "plt.show()"
   ]
  },
  {
   "cell_type": "code",
   "execution_count": 203,
   "id": "2b37a5f3",
   "metadata": {},
   "outputs": [
    {
     "data": {
      "text/plain": [
       "Text(51.62, 0.5, 'True values')"
      ]
     },
     "execution_count": 203,
     "metadata": {},
     "output_type": "execute_result"
    },
    {
     "data": {
      "image/png": "[encoded data removed]",
      "text/plain": [
       "<Figure size 864x576 with 2 Axes>"
      ]
     },
     "metadata": {
      "needs_background": "light"
     },
     "output_type": "display_data"
    }
   ],
   "source": [
    "# confusion matrix\n",
    "matrix = confusion_matrix(y_test, Lr_pred)\n",
    "# Dataframe to store values\n",
    "df_cm = pd.DataFrame(matrix, index = ['Persistence', 'Non-Persistence'],\n",
    "                            columns = ['Persistence', 'Non-Persistence'])\n",
    "plt.figure(figsize = (12,8))\n",
    "#plot confusion matrix\n",
    "sns.heatmap(df_cm,\n",
    "            annot=True,\n",
    "            cmap='Greens',\n",
    "            fmt='.5g',\n",
    "            annot_kws={\"size\": 12}).set_title('Confusion matrix LR', fontsize = 20, y=1.05)\n",
    "plt.xlabel('Predicted values', fontsize = 15)\n",
    "plt.ylabel('True values', fontsize = 15)"
   ]
  },
  {
   "cell_type": "markdown",
   "id": "8665e110",
   "metadata": {},
   "source": [
    "<h2 style='font-weight:bold;color:#ff0000;text-align:center'>    2. Support Vector Machine (SVM) </h2>"
   ]
  },
  {
   "cell_type": "code",
   "execution_count": 118,
   "id": "88aca86a",
   "metadata": {},
   "outputs": [
    {
     "data": {
      "text/html": [
       "<style>#sk-container-id-16 {color: black;background-color: white;}#sk-container-id-16 pre{padding: 0;}#sk-container-id-16 div.sk-toggleable {background-color: white;}#sk-container-id-16 label.sk-toggleable__label {cursor: pointer;display: block;width: 100%;margin-bottom: 0;padding: 0.3em;box-sizing: border-box;text-align: center;}#sk-container-id-16 label.sk-toggleable__label-arrow:before {content: \"▸\";float: left;margin-right: 0.25em;color: #696969;}#sk-container-id-16 label.sk-toggleable__label-arrow:hover:before {color: black;}#sk-container-id-16 div.sk-estimator:hover label.sk-toggleable__label-arrow:before {color: black;}#sk-container-id-16 div.sk-toggleable__content {max-height: 0;max-width: 0;overflow: hidden;text-align: left;background-color: #f0f8ff;}#sk-container-id-16 div.sk-toggleable__content pre {margin: 0.2em;color: black;border-radius: 0.25em;background-color: #f0f8ff;}#sk-container-id-16 input.sk-toggleable__control:checked~div.sk-toggleable__content {max-height: 200px;max-width: 100%;overflow: auto;}#sk-container-id-16 input.sk-toggleable__control:checked~label.sk-toggleable__label-arrow:before {content: \"▾\";}#sk-container-id-16 div.sk-estimator input.sk-toggleable__control:checked~label.sk-toggleable__label {background-color: #d4ebff;}#sk-container-id-16 div.sk-label input.sk-toggleable__control:checked~label.sk-toggleable__label {background-color: #d4ebff;}#sk-container-id-16 input.sk-hidden--visually {border: 0;clip: rect(1px 1px 1px 1px);clip: rect(1px, 1px, 1px, 1px);height: 1px;margin: -1px;overflow: hidden;padding: 0;position: absolute;width: 1px;}#sk-container-id-16 div.sk-estimator {font-family: monospace;background-color: #f0f8ff;border: 1px dotted black;border-radius: 0.25em;box-sizing: border-box;margin-bottom: 0.5em;}#sk-container-id-16 div.sk-estimator:hover {background-color: #d4ebff;}#sk-container-id-16 div.sk-parallel-item::after {content: \"\";width: 100%;border-bottom: 1px solid gray;flex-grow: 1;}#sk-container-id-16 div.sk-label:hover label.sk-toggleable__label {background-color: #d4ebff;}#sk-container-id-16 div.sk-serial::before {content: \"\";position: absolute;border-left: 1px solid gray;box-sizing: border-box;top: 0;bottom: 0;left: 50%;z-index: 0;}#sk-container-id-16 div.sk-serial {display: flex;flex-direction: column;align-items: center;background-color: white;padding-right: 0.2em;padding-left: 0.2em;position: relative;}#sk-container-id-16 div.sk-item {position: relative;z-index: 1;}#sk-container-id-16 div.sk-parallel {display: flex;align-items: stretch;justify-content: center;background-color: white;position: relative;}#sk-container-id-16 div.sk-item::before, #sk-container-id-16 div.sk-parallel-item::before {content: \"\";position: absolute;border-left: 1px solid gray;box-sizing: border-box;top: 0;bottom: 0;left: 50%;z-index: -1;}#sk-container-id-16 div.sk-parallel-item {display: flex;flex-direction: column;z-index: 1;position: relative;background-color: white;}#sk-container-id-16 div.sk-parallel-item:first-child::after {align-self: flex-end;width: 50%;}#sk-container-id-16 div.sk-parallel-item:last-child::after {align-self: flex-start;width: 50%;}#sk-container-id-16 div.sk-parallel-item:only-child::after {width: 0;}#sk-container-id-16 div.sk-dashed-wrapped {border: 1px dashed gray;margin: 0 0.4em 0.5em 0.4em;box-sizing: border-box;padding-bottom: 0.4em;background-color: white;}#sk-container-id-16 div.sk-label label {font-family: monospace;font-weight: bold;display: inline-block;line-height: 1.2em;}#sk-container-id-16 div.sk-label-container {text-align: center;}#sk-container-id-16 div.sk-container {/* jupyter's `normalize.less` sets `[hidden] { display: none; }` but bootstrap.min.css set `[hidden] { display: none !important; }` so we also need the `!important` here to be able to override the default hidden behavior on the sphinx rendered scikit-learn.org. See: https://github.com/scikit-learn/scikit-learn/issues/21755 */display: inline-block !important;position: relative;}#sk-container-id-16 div.sk-text-repr-fallback {display: none;}</style><div id=\"sk-container-id-16\" class=\"sk-top-container\"><div class=\"sk-text-repr-fallback\"><pre>SVC(C=10, probability=True)</pre><b>In a Jupyter environment, please rerun this cell to show the HTML representation or trust the notebook. <br />On GitHub, the HTML representation is unable to render, please try loading this page with nbviewer.org.</b></div><div class=\"sk-container\" hidden><div class=\"sk-item\"><div class=\"sk-estimator sk-toggleable\"><input class=\"sk-toggleable__control sk-hidden--visually\" id=\"sk-estimator-id-16\" type=\"checkbox\" checked><label for=\"sk-estimator-id-16\" class=\"sk-toggleable__label sk-toggleable__label-arrow\">SVC</label><div class=\"sk-toggleable__content\"><pre>SVC(C=10, probability=True)</pre></div></div></div></div></div>"
      ],
      "text/plain": [
       "SVC(C=10, probability=True)"
      ]
     },
     "execution_count": 118,
     "metadata": {},
     "output_type": "execute_result"
    }
   ],
   "source": [
    "SVM_model = SVC(C=10,probability=True)\n",
    "SVM_model.fit(X_train,y_train)"
   ]
  },
  {
   "cell_type": "code",
   "execution_count": 119,
   "id": "8d843651",
   "metadata": {},
   "outputs": [],
   "source": [
    "SVM_score = SVM_model.score(X_test,y_test)*100"
   ]
  },
  {
   "cell_type": "code",
   "execution_count": 120,
   "id": "04126405",
   "metadata": {},
   "outputs": [
    {
     "name": "stdout",
     "output_type": "stream",
     "text": [
      "Accuracy Score using Support Vector Machine (SVM) = 78.89%\n"
     ]
    }
   ],
   "source": [
    "print(f'Accuracy Score using Support Vector Machine (SVM) = {SVM_score:.2f}%')"
   ]
  },
  {
   "cell_type": "code",
   "execution_count": 121,
   "id": "8ee942c6",
   "metadata": {},
   "outputs": [],
   "source": [
    "SVM_pred = SVM_model.predict(X_test)"
   ]
  },
  {
   "cell_type": "code",
   "execution_count": 122,
   "id": "a1650399",
   "metadata": {},
   "outputs": [
    {
     "name": "stdout",
     "output_type": "stream",
     "text": [
      "              precision    recall  f1-score   support\n",
      "\n",
      "           0       0.82      0.85      0.83       641\n",
      "           1       0.73      0.69      0.71       387\n",
      "\n",
      "    accuracy                           0.79      1028\n",
      "   macro avg       0.78      0.77      0.77      1028\n",
      "weighted avg       0.79      0.79      0.79      1028\n",
      "\n"
     ]
    }
   ],
   "source": [
    "print(classification_report(y_test, SVM_pred))"
   ]
  },
  {
   "cell_type": "code",
   "execution_count": 123,
   "id": "228cd942",
   "metadata": {},
   "outputs": [
    {
     "name": "stdout",
     "output_type": "stream",
     "text": [
      "Auc is 0.77\n"
     ]
    }
   ],
   "source": [
    "SVM_auc = np.round(roc_auc_score(y_test, SVM_pred), 3)\n",
    " \n",
    "print(\"Auc is {}\". format(SVM_auc))"
   ]
  },
  {
   "cell_type": "code",
   "execution_count": 193,
   "id": "f4a4da40",
   "metadata": {},
   "outputs": [
    {
     "data": {
      "image/png": "[encoded data removed]",
      "text/plain": [
       "<Figure size 432x288 with 1 Axes>"
      ]
     },
     "metadata": {
      "needs_background": "light"
     },
     "output_type": "display_data"
    }
   ],
   "source": [
    "# predict probabilities\n",
    "yhat_SVM = SVM_model.predict_proba(X_test)\n",
    "\n",
    "# retrieve just the probabilities for the positive class\n",
    "pos_probs = yhat_SVM[:, 1]\n",
    "\n",
    "# plot no skill roc curve\n",
    "plt.plot([0, 1], [0, 1], linestyle='--', label='No Skill')\n",
    "# calculate roc curve for model\n",
    "fpr, tpr, _ = roc_curve(y_test, pos_probs)\n",
    "# plot model roc curve\n",
    "plt.plot(fpr, tpr, marker='.', label='SVM')\n",
    "# axis labels\n",
    "plt.xlabel('False Positive Rate')\n",
    "plt.ylabel('True Positive Rate')\n",
    "# show the legend\n",
    "plt.legend()\n",
    "# show the plot\n",
    "plt.show()"
   ]
  },
  {
   "cell_type": "code",
   "execution_count": 204,
   "id": "4e204258",
   "metadata": {},
   "outputs": [
    {
     "data": {
      "text/plain": [
       "Text(51.62, 0.5, 'True values')"
      ]
     },
     "execution_count": 204,
     "metadata": {},
     "output_type": "execute_result"
    },
    {
     "data": {
      "image/png": "[encoded data removed]",
      "text/plain": [
       "<Figure size 864x576 with 2 Axes>"
      ]
     },
     "metadata": {
      "needs_background": "light"
     },
     "output_type": "display_data"
    }
   ],
   "source": [
    "# confusion matrix\n",
    "matrix = confusion_matrix(y_test, SVM_pred)\n",
    "# Dataframe to store values\n",
    "df_cm = pd.DataFrame(matrix, index = ['Persistence', 'Non-Persistence'],\n",
    "                            columns = ['Persistence', 'Non-Persistence'])\n",
    "plt.figure(figsize = (12,8))\n",
    "#plot confusion matrix\n",
    "sns.heatmap(df_cm,\n",
    "            annot=True,\n",
    "            cmap='Greens',\n",
    "            fmt='.5g',\n",
    "            annot_kws={\"size\": 12}).set_title('Confusion matrix SVM', fontsize = 20, y=1.05)\n",
    "plt.xlabel('Predicted values', fontsize = 15)\n",
    "plt.ylabel('True values', fontsize = 15)"
   ]
  },
  {
   "cell_type": "markdown",
   "id": "cd52145a",
   "metadata": {},
   "source": [
    "<h2 style='font-weight:bold;color:#ff0000;text-align:center'>    3. KNN </h2>"
   ]
  },
  {
   "cell_type": "code",
   "execution_count": 157,
   "id": "102c7fd9",
   "metadata": {},
   "outputs": [
    {
     "data": {
      "text/html": [
       "<style>#sk-container-id-27 {color: black;background-color: white;}#sk-container-id-27 pre{padding: 0;}#sk-container-id-27 div.sk-toggleable {background-color: white;}#sk-container-id-27 label.sk-toggleable__label {cursor: pointer;display: block;width: 100%;margin-bottom: 0;padding: 0.3em;box-sizing: border-box;text-align: center;}#sk-container-id-27 label.sk-toggleable__label-arrow:before {content: \"▸\";float: left;margin-right: 0.25em;color: #696969;}#sk-container-id-27 label.sk-toggleable__label-arrow:hover:before {color: black;}#sk-container-id-27 div.sk-estimator:hover label.sk-toggleable__label-arrow:before {color: black;}#sk-container-id-27 div.sk-toggleable__content {max-height: 0;max-width: 0;overflow: hidden;text-align: left;background-color: #f0f8ff;}#sk-container-id-27 div.sk-toggleable__content pre {margin: 0.2em;color: black;border-radius: 0.25em;background-color: #f0f8ff;}#sk-container-id-27 input.sk-toggleable__control:checked~div.sk-toggleable__content {max-height: 200px;max-width: 100%;overflow: auto;}#sk-container-id-27 input.sk-toggleable__control:checked~label.sk-toggleable__label-arrow:before {content: \"▾\";}#sk-container-id-27 div.sk-estimator input.sk-toggleable__control:checked~label.sk-toggleable__label {background-color: #d4ebff;}#sk-container-id-27 div.sk-label input.sk-toggleable__control:checked~label.sk-toggleable__label {background-color: #d4ebff;}#sk-container-id-27 input.sk-hidden--visually {border: 0;clip: rect(1px 1px 1px 1px);clip: rect(1px, 1px, 1px, 1px);height: 1px;margin: -1px;overflow: hidden;padding: 0;position: absolute;width: 1px;}#sk-container-id-27 div.sk-estimator {font-family: monospace;background-color: #f0f8ff;border: 1px dotted black;border-radius: 0.25em;box-sizing: border-box;margin-bottom: 0.5em;}#sk-container-id-27 div.sk-estimator:hover {background-color: #d4ebff;}#sk-container-id-27 div.sk-parallel-item::after {content: \"\";width: 100%;border-bottom: 1px solid gray;flex-grow: 1;}#sk-container-id-27 div.sk-label:hover label.sk-toggleable__label {background-color: #d4ebff;}#sk-container-id-27 div.sk-serial::before {content: \"\";position: absolute;border-left: 1px solid gray;box-sizing: border-box;top: 0;bottom: 0;left: 50%;z-index: 0;}#sk-container-id-27 div.sk-serial {display: flex;flex-direction: column;align-items: center;background-color: white;padding-right: 0.2em;padding-left: 0.2em;position: relative;}#sk-container-id-27 div.sk-item {position: relative;z-index: 1;}#sk-container-id-27 div.sk-parallel {display: flex;align-items: stretch;justify-content: center;background-color: white;position: relative;}#sk-container-id-27 div.sk-item::before, #sk-container-id-27 div.sk-parallel-item::before {content: \"\";position: absolute;border-left: 1px solid gray;box-sizing: border-box;top: 0;bottom: 0;left: 50%;z-index: -1;}#sk-container-id-27 div.sk-parallel-item {display: flex;flex-direction: column;z-index: 1;position: relative;background-color: white;}#sk-container-id-27 div.sk-parallel-item:first-child::after {align-self: flex-end;width: 50%;}#sk-container-id-27 div.sk-parallel-item:last-child::after {align-self: flex-start;width: 50%;}#sk-container-id-27 div.sk-parallel-item:only-child::after {width: 0;}#sk-container-id-27 div.sk-dashed-wrapped {border: 1px dashed gray;margin: 0 0.4em 0.5em 0.4em;box-sizing: border-box;padding-bottom: 0.4em;background-color: white;}#sk-container-id-27 div.sk-label label {font-family: monospace;font-weight: bold;display: inline-block;line-height: 1.2em;}#sk-container-id-27 div.sk-label-container {text-align: center;}#sk-container-id-27 div.sk-container {/* jupyter's `normalize.less` sets `[hidden] { display: none; }` but bootstrap.min.css set `[hidden] { display: none !important; }` so we also need the `!important` here to be able to override the default hidden behavior on the sphinx rendered scikit-learn.org. See: https://github.com/scikit-learn/scikit-learn/issues/21755 */display: inline-block !important;position: relative;}#sk-container-id-27 div.sk-text-repr-fallback {display: none;}</style><div id=\"sk-container-id-27\" class=\"sk-top-container\"><div class=\"sk-text-repr-fallback\"><pre>KNeighborsClassifier(n_jobs=5, n_neighbors=100)</pre><b>In a Jupyter environment, please rerun this cell to show the HTML representation or trust the notebook. <br />On GitHub, the HTML representation is unable to render, please try loading this page with nbviewer.org.</b></div><div class=\"sk-container\" hidden><div class=\"sk-item\"><div class=\"sk-estimator sk-toggleable\"><input class=\"sk-toggleable__control sk-hidden--visually\" id=\"sk-estimator-id-27\" type=\"checkbox\" checked><label for=\"sk-estimator-id-27\" class=\"sk-toggleable__label sk-toggleable__label-arrow\">KNeighborsClassifier</label><div class=\"sk-toggleable__content\"><pre>KNeighborsClassifier(n_jobs=5, n_neighbors=100)</pre></div></div></div></div></div>"
      ],
      "text/plain": [
       "KNeighborsClassifier(n_jobs=5, n_neighbors=100)"
      ]
     },
     "execution_count": 157,
     "metadata": {},
     "output_type": "execute_result"
    }
   ],
   "source": [
    "KNN_model = KNeighborsClassifier(n_jobs=5,n_neighbors= 100)\n",
    "KNN_model.fit(X_train,y_train)"
   ]
  },
  {
   "cell_type": "code",
   "execution_count": 158,
   "id": "b440794f",
   "metadata": {},
   "outputs": [
    {
     "name": "stderr",
     "output_type": "stream",
     "text": [
      "C:\\Users\\Olutayo OLADEINBO\\AppData\\Roaming\\Python\\Python310\\site-packages\\sklearn\\neighbors\\_classification.py:237: FutureWarning: Unlike other reduction functions (e.g. `skew`, `kurtosis`), the default behavior of `mode` typically preserves the axis it acts along. In SciPy 1.11.0, this behavior will change: the default value of `keepdims` will become False, the `axis` over which the statistic is taken will be eliminated, and the value None will no longer be accepted. Set `keepdims` to True or False to avoid this warning.\n",
      "  mode, _ = stats.mode(_y[neigh_ind, k], axis=1)\n"
     ]
    }
   ],
   "source": [
    "KNN_score = KNN_model.score(X_test,y_test)*100"
   ]
  },
  {
   "cell_type": "code",
   "execution_count": 159,
   "id": "bc6fdbc3",
   "metadata": {},
   "outputs": [
    {
     "name": "stdout",
     "output_type": "stream",
     "text": [
      "Accuracy Score using KNeighbour Neighbour = 77.72%\n"
     ]
    }
   ],
   "source": [
    "print(f'Accuracy Score using KNeighbour Neighbour = {KNN_score:.2f}%')"
   ]
  },
  {
   "cell_type": "code",
   "execution_count": 160,
   "id": "b2143197",
   "metadata": {},
   "outputs": [
    {
     "name": "stderr",
     "output_type": "stream",
     "text": [
      "C:\\Users\\Olutayo OLADEINBO\\AppData\\Roaming\\Python\\Python310\\site-packages\\sklearn\\neighbors\\_classification.py:237: FutureWarning: Unlike other reduction functions (e.g. `skew`, `kurtosis`), the default behavior of `mode` typically preserves the axis it acts along. In SciPy 1.11.0, this behavior will change: the default value of `keepdims` will become False, the `axis` over which the statistic is taken will be eliminated, and the value None will no longer be accepted. Set `keepdims` to True or False to avoid this warning.\n",
      "  mode, _ = stats.mode(_y[neigh_ind, k], axis=1)\n"
     ]
    }
   ],
   "source": [
    "KNN_pred = KNN_model.predict(X_test)"
   ]
  },
  {
   "cell_type": "code",
   "execution_count": 161,
   "id": "5c8717d5",
   "metadata": {},
   "outputs": [
    {
     "name": "stdout",
     "output_type": "stream",
     "text": [
      "              precision    recall  f1-score   support\n",
      "\n",
      "           0       0.77      0.91      0.84       641\n",
      "           1       0.78      0.56      0.66       387\n",
      "\n",
      "    accuracy                           0.78      1028\n",
      "   macro avg       0.78      0.73      0.75      1028\n",
      "weighted avg       0.78      0.78      0.77      1028\n",
      "\n"
     ]
    }
   ],
   "source": [
    "print(classification_report(y_test, KNN_pred))"
   ]
  },
  {
   "cell_type": "code",
   "execution_count": 162,
   "id": "cdf21d08",
   "metadata": {},
   "outputs": [
    {
     "name": "stdout",
     "output_type": "stream",
     "text": [
      "Auc is 0.735\n"
     ]
    }
   ],
   "source": [
    "KNN_auc = np.round(roc_auc_score(y_test, KNN_pred), 3)\n",
    " \n",
    "print(\"Auc is {}\". format(KNN_auc))"
   ]
  },
  {
   "cell_type": "code",
   "execution_count": 192,
   "id": "9ce188d2",
   "metadata": {},
   "outputs": [
    {
     "data": {
      "image/png": "[encoded data removed]",
      "text/plain": [
       "<Figure size 432x288 with 1 Axes>"
      ]
     },
     "metadata": {
      "needs_background": "light"
     },
     "output_type": "display_data"
    }
   ],
   "source": [
    "# predict probabilities\n",
    "yhat_KNN = KNN_model.predict_proba(X_test)\n",
    "\n",
    "# retrieve just the probabilities for the positive class\n",
    "pos_probs = yhat_KNN[:, 1]\n",
    "\n",
    "# plot no skill roc curve\n",
    "plt.plot([0, 1], [0, 1], linestyle='--', label='No Skill')\n",
    "# calculate roc curve for model\n",
    "fpr, tpr, _ = roc_curve(y_test, pos_probs)\n",
    "# plot model roc curve\n",
    "plt.plot(fpr, tpr, marker='.', label='KNN')\n",
    "# axis labels\n",
    "plt.xlabel('False Positive Rate')\n",
    "plt.ylabel('True Positive Rate')\n",
    "# show the legend\n",
    "plt.legend()\n",
    "# show the plot\n",
    "plt.show()"
   ]
  },
  {
   "cell_type": "code",
   "execution_count": 208,
   "id": "9ba94844",
   "metadata": {},
   "outputs": [
    {
     "data": {
      "text/plain": [
       "Text(51.62, 0.5, 'True values')"
      ]
     },
     "execution_count": 208,
     "metadata": {},
     "output_type": "execute_result"
    },
    {
     "data": {
      "image/png": "[encoded data removed]",
      "text/plain": [
       "<Figure size 864x576 with 2 Axes>"
      ]
     },
     "metadata": {
      "needs_background": "light"
     },
     "output_type": "display_data"
    }
   ],
   "source": [
    "# confusion matrix\n",
    "matrix = confusion_matrix(y_test, KNN_pred)\n",
    "# Dataframe to store values\n",
    "df_cm = pd.DataFrame(matrix, index = ['Persistence', 'Non-Persistence'],\n",
    "                            columns = ['Persistence', 'Non-Persistence'])\n",
    "plt.figure(figsize = (12,8))\n",
    "#plot confusion matrix\n",
    "sns.heatmap(df_cm,\n",
    "            annot=True,\n",
    "            cmap='Greens',\n",
    "            fmt='.5g',\n",
    "            annot_kws={\"size\": 12}).set_title('Confusion matrix KNN', fontsize = 20, y=1.05)\n",
    "plt.xlabel('Predicted values', fontsize = 15)\n",
    "plt.ylabel('True values', fontsize = 15)"
   ]
  },
  {
   "cell_type": "markdown",
   "id": "70bb2374",
   "metadata": {},
   "source": [
    "<h2 style='font-weight:bold;color:#ff0000;text-align:center'>    4. Gradient Boost </h2>"
   ]
  },
  {
   "cell_type": "code",
   "execution_count": 184,
   "id": "8cd6197c",
   "metadata": {},
   "outputs": [
    {
     "data": {
      "text/html": [
       "<style>#sk-container-id-34 {color: black;background-color: white;}#sk-container-id-34 pre{padding: 0;}#sk-container-id-34 div.sk-toggleable {background-color: white;}#sk-container-id-34 label.sk-toggleable__label {cursor: pointer;display: block;width: 100%;margin-bottom: 0;padding: 0.3em;box-sizing: border-box;text-align: center;}#sk-container-id-34 label.sk-toggleable__label-arrow:before {content: \"▸\";float: left;margin-right: 0.25em;color: #696969;}#sk-container-id-34 label.sk-toggleable__label-arrow:hover:before {color: black;}#sk-container-id-34 div.sk-estimator:hover label.sk-toggleable__label-arrow:before {color: black;}#sk-container-id-34 div.sk-toggleable__content {max-height: 0;max-width: 0;overflow: hidden;text-align: left;background-color: #f0f8ff;}#sk-container-id-34 div.sk-toggleable__content pre {margin: 0.2em;color: black;border-radius: 0.25em;background-color: #f0f8ff;}#sk-container-id-34 input.sk-toggleable__control:checked~div.sk-toggleable__content {max-height: 200px;max-width: 100%;overflow: auto;}#sk-container-id-34 input.sk-toggleable__control:checked~label.sk-toggleable__label-arrow:before {content: \"▾\";}#sk-container-id-34 div.sk-estimator input.sk-toggleable__control:checked~label.sk-toggleable__label {background-color: #d4ebff;}#sk-container-id-34 div.sk-label input.sk-toggleable__control:checked~label.sk-toggleable__label {background-color: #d4ebff;}#sk-container-id-34 input.sk-hidden--visually {border: 0;clip: rect(1px 1px 1px 1px);clip: rect(1px, 1px, 1px, 1px);height: 1px;margin: -1px;overflow: hidden;padding: 0;position: absolute;width: 1px;}#sk-container-id-34 div.sk-estimator {font-family: monospace;background-color: #f0f8ff;border: 1px dotted black;border-radius: 0.25em;box-sizing: border-box;margin-bottom: 0.5em;}#sk-container-id-34 div.sk-estimator:hover {background-color: #d4ebff;}#sk-container-id-34 div.sk-parallel-item::after {content: \"\";width: 100%;border-bottom: 1px solid gray;flex-grow: 1;}#sk-container-id-34 div.sk-label:hover label.sk-toggleable__label {background-color: #d4ebff;}#sk-container-id-34 div.sk-serial::before {content: \"\";position: absolute;border-left: 1px solid gray;box-sizing: border-box;top: 0;bottom: 0;left: 50%;z-index: 0;}#sk-container-id-34 div.sk-serial {display: flex;flex-direction: column;align-items: center;background-color: white;padding-right: 0.2em;padding-left: 0.2em;position: relative;}#sk-container-id-34 div.sk-item {position: relative;z-index: 1;}#sk-container-id-34 div.sk-parallel {display: flex;align-items: stretch;justify-content: center;background-color: white;position: relative;}#sk-container-id-34 div.sk-item::before, #sk-container-id-34 div.sk-parallel-item::before {content: \"\";position: absolute;border-left: 1px solid gray;box-sizing: border-box;top: 0;bottom: 0;left: 50%;z-index: -1;}#sk-container-id-34 div.sk-parallel-item {display: flex;flex-direction: column;z-index: 1;position: relative;background-color: white;}#sk-container-id-34 div.sk-parallel-item:first-child::after {align-self: flex-end;width: 50%;}#sk-container-id-34 div.sk-parallel-item:last-child::after {align-self: flex-start;width: 50%;}#sk-container-id-34 div.sk-parallel-item:only-child::after {width: 0;}#sk-container-id-34 div.sk-dashed-wrapped {border: 1px dashed gray;margin: 0 0.4em 0.5em 0.4em;box-sizing: border-box;padding-bottom: 0.4em;background-color: white;}#sk-container-id-34 div.sk-label label {font-family: monospace;font-weight: bold;display: inline-block;line-height: 1.2em;}#sk-container-id-34 div.sk-label-container {text-align: center;}#sk-container-id-34 div.sk-container {/* jupyter's `normalize.less` sets `[hidden] { display: none; }` but bootstrap.min.css set `[hidden] { display: none !important; }` so we also need the `!important` here to be able to override the default hidden behavior on the sphinx rendered scikit-learn.org. See: https://github.com/scikit-learn/scikit-learn/issues/21755 */display: inline-block !important;position: relative;}#sk-container-id-34 div.sk-text-repr-fallback {display: none;}</style><div id=\"sk-container-id-34\" class=\"sk-top-container\"><div class=\"sk-text-repr-fallback\"><pre>GradientBoostingClassifier(learning_rate=0.01, loss=&#x27;exponential&#x27;, max_depth=70,\n",
       "                           max_features=1, n_estimators=200)</pre><b>In a Jupyter environment, please rerun this cell to show the HTML representation or trust the notebook. <br />On GitHub, the HTML representation is unable to render, please try loading this page with nbviewer.org.</b></div><div class=\"sk-container\" hidden><div class=\"sk-item\"><div class=\"sk-estimator sk-toggleable\"><input class=\"sk-toggleable__control sk-hidden--visually\" id=\"sk-estimator-id-34\" type=\"checkbox\" checked><label for=\"sk-estimator-id-34\" class=\"sk-toggleable__label sk-toggleable__label-arrow\">GradientBoostingClassifier</label><div class=\"sk-toggleable__content\"><pre>GradientBoostingClassifier(learning_rate=0.01, loss=&#x27;exponential&#x27;, max_depth=70,\n",
       "                           max_features=1, n_estimators=200)</pre></div></div></div></div></div>"
      ],
      "text/plain": [
       "GradientBoostingClassifier(learning_rate=0.01, loss='exponential', max_depth=70,\n",
       "                           max_features=1, n_estimators=200)"
      ]
     },
     "execution_count": 184,
     "metadata": {},
     "output_type": "execute_result"
    }
   ],
   "source": [
    "GB_model = GradientBoostingClassifier(learning_rate=0.01,loss='exponential',max_depth=70,max_features=1,n_estimators=200)\n",
    "GB_model.fit(X_train,y_train)"
   ]
  },
  {
   "cell_type": "code",
   "execution_count": 185,
   "id": "2dff45a1",
   "metadata": {},
   "outputs": [],
   "source": [
    "GB_score = GB_model.score(X_test,y_test)"
   ]
  },
  {
   "cell_type": "code",
   "execution_count": 186,
   "id": "a35fafce",
   "metadata": {},
   "outputs": [
    {
     "name": "stdout",
     "output_type": "stream",
     "text": [
      "Accuracy Score using Gradient Boost Classifier = 0.80%\n"
     ]
    }
   ],
   "source": [
    "print(f'Accuracy Score using Gradient Boost Classifier = {GB_score:.2f}%')"
   ]
  },
  {
   "cell_type": "code",
   "execution_count": 187,
   "id": "48ae618f",
   "metadata": {},
   "outputs": [],
   "source": [
    "GB_pred = GB_model.predict(X_test)"
   ]
  },
  {
   "cell_type": "code",
   "execution_count": 188,
   "id": "e124ed7c",
   "metadata": {},
   "outputs": [
    {
     "name": "stdout",
     "output_type": "stream",
     "text": [
      "              precision    recall  f1-score   support\n",
      "\n",
      "           0       0.83      0.84      0.84       641\n",
      "           1       0.74      0.72      0.73       387\n",
      "\n",
      "    accuracy                           0.80      1028\n",
      "   macro avg       0.78      0.78      0.78      1028\n",
      "weighted avg       0.80      0.80      0.80      1028\n",
      "\n"
     ]
    }
   ],
   "source": [
    "print(classification_report(y_test, GB_pred))"
   ]
  },
  {
   "cell_type": "code",
   "execution_count": 189,
   "id": "5f727914",
   "metadata": {},
   "outputs": [
    {
     "name": "stdout",
     "output_type": "stream",
     "text": [
      "Auc is 0.782\n"
     ]
    }
   ],
   "source": [
    "GB_auc = np.round(roc_auc_score(y_test, GB_pred), 3)\n",
    " \n",
    "print(\"Auc is {}\". format(GB_auc))"
   ]
  },
  {
   "cell_type": "code",
   "execution_count": 191,
   "id": "3cfd63f2",
   "metadata": {},
   "outputs": [
    {
     "data": {
      "image/png": "[encoded data removed]",
      "text/plain": [
       "<Figure size 432x288 with 1 Axes>"
      ]
     },
     "metadata": {
      "needs_background": "light"
     },
     "output_type": "display_data"
    }
   ],
   "source": [
    "# predict probabilities\n",
    "yhat_GB = GB_model.predict_proba(X_test)\n",
    "\n",
    "# retrieve just the probabilities for the positive class\n",
    "pos_probs = yhat_GB[:, 1]\n",
    "\n",
    "# plot no skill roc curve\n",
    "plt.plot([0, 1], [0, 1], linestyle='--', label='No Skill')\n",
    "# calculate roc curve for model\n",
    "fpr, tpr, _ = roc_curve(y_test, pos_probs)\n",
    "# plot model roc curve\n",
    "plt.plot(fpr, tpr, marker='.', label='Gradient Boost')\n",
    "# axis labels\n",
    "plt.xlabel('False Positive Rate')\n",
    "plt.ylabel('True Positive Rate')\n",
    "# show the legend\n",
    "plt.legend()\n",
    "# show the plot\n",
    "plt.show()"
   ]
  },
  {
   "cell_type": "code",
   "execution_count": 207,
   "id": "df7c1946",
   "metadata": {},
   "outputs": [
    {
     "data": {
      "text/plain": [
       "Text(51.62, 0.5, 'True values')"
      ]
     },
     "execution_count": 207,
     "metadata": {},
     "output_type": "execute_result"
    },
    {
     "data": {
      "image/png": "[encoded data removed]",
      "text/plain": [
       "<Figure size 864x576 with 2 Axes>"
      ]
     },
     "metadata": {
      "needs_background": "light"
     },
     "output_type": "display_data"
    }
   ],
   "source": [
    "# confusion matrix\n",
    "matrix = confusion_matrix(y_test, GB_pred)\n",
    "# Dataframe to store values\n",
    "df_cm = pd.DataFrame(matrix, index = ['Persistence', 'Non-Persistence'],\n",
    "                            columns = ['Persistence', 'Non-Persistence'])\n",
    "plt.figure(figsize = (12,8))\n",
    "#plot confusion matrix\n",
    "sns.heatmap(df_cm,\n",
    "            annot=True,\n",
    "            cmap='Greens',\n",
    "            fmt='.5g',\n",
    "            annot_kws={\"size\": 12}).set_title('Confusion matrix Gradient Boost', fontsize = 20, y=1.05)\n",
    "plt.xlabel('Predicted values', fontsize = 15)\n",
    "plt.ylabel('True values', fontsize = 15)"
   ]
  },
  {
   "cell_type": "code",
   "execution_count": null,
   "id": "b6312e47",
   "metadata": {},
   "outputs": [],
   "source": []
  }
 ],
 "metadata": {
  "kernelspec": {
   "display_name": "Python 3 (ipykernel)",
   "language": "python",
   "name": "python3"
  },
  "language_info": {
   "codemirror_mode": {
    "name": "ipython",
    "version": 3
   },
   "file_extension": ".py",
   "mimetype": "text/x-python",
   "name": "python",
   "nbconvert_exporter": "python",
   "pygments_lexer": "ipython3",
   "version": "3.10.5"
  }
 },
 "nbformat": 4,
 "nbformat_minor": 5
}
